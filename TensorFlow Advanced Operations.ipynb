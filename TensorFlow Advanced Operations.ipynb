{
 "cells": [
  {
   "cell_type": "code",
   "execution_count": 1,
   "id": "25787621",
   "metadata": {},
   "outputs": [],
   "source": [
    "import tensorflow as tf"
   ]
  },
  {
   "cell_type": "markdown",
   "id": "f159472d",
   "metadata": {},
   "source": [
    "张量合并与分割"
   ]
  },
  {
   "cell_type": "markdown",
   "id": "5a499ff5",
   "metadata": {},
   "source": [
    "合并：拼接与堆叠"
   ]
  },
  {
   "cell_type": "code",
   "execution_count": 125,
   "id": "ad4b6a78",
   "metadata": {},
   "outputs": [
    {
     "data": {
      "text/plain": [
       "TensorShape([10, 35, 8])"
      ]
     },
     "execution_count": 125,
     "metadata": {},
     "output_type": "execute_result"
    }
   ],
   "source": [
    "#拼接\n",
    "a = tf.random.normal([4,35,8])\n",
    "b = tf.random.normal([6,35,8])\n",
    "tf.concat([a,b], axis=0).shape"
   ]
  },
  {
   "cell_type": "code",
   "execution_count": 126,
   "id": "4c83d420",
   "metadata": {},
   "outputs": [
    {
     "data": {
      "text/plain": [
       "TensorShape([10, 35, 8])"
      ]
     },
     "execution_count": 126,
     "metadata": {},
     "output_type": "execute_result"
    }
   ],
   "source": [
    "a = tf.random.normal([10,35,4])\n",
    "b = tf.random.normal([10,35,4])\n",
    "tf.concat([a,b], axis=2).shape"
   ]
  },
  {
   "cell_type": "code",
   "execution_count": 8,
   "id": "bd7c528e",
   "metadata": {},
   "outputs": [
    {
     "ename": "InvalidArgumentError",
     "evalue": "{{function_node __wrapped__ConcatV2_N_2_device_/job:localhost/replica:0/task:0/device:CPU:0}} ConcatOp : Dimension 1 in both shapes must be equal: shape[0] = [10,35,4] vs. shape[1] = [4,32,4] [Op:ConcatV2] name: concat",
     "output_type": "error",
     "traceback": [
      "\u001b[1;31m---------------------------------------------------------------------------\u001b[0m",
      "\u001b[1;31mInvalidArgumentError\u001b[0m                      Traceback (most recent call last)",
      "\u001b[1;32m~\\AppData\\Local\\Temp\\ipykernel_14776\\452624396.py\u001b[0m in \u001b[0;36m<module>\u001b[1;34m\u001b[0m\n\u001b[0;32m      2\u001b[0m \u001b[0ma\u001b[0m \u001b[1;33m=\u001b[0m \u001b[0mtf\u001b[0m\u001b[1;33m.\u001b[0m\u001b[0mrandom\u001b[0m\u001b[1;33m.\u001b[0m\u001b[0mnormal\u001b[0m\u001b[1;33m(\u001b[0m\u001b[1;33m[\u001b[0m\u001b[1;36m10\u001b[0m\u001b[1;33m,\u001b[0m\u001b[1;36m35\u001b[0m\u001b[1;33m,\u001b[0m\u001b[1;36m4\u001b[0m\u001b[1;33m]\u001b[0m\u001b[1;33m)\u001b[0m\u001b[1;33m\u001b[0m\u001b[1;33m\u001b[0m\u001b[0m\n\u001b[0;32m      3\u001b[0m \u001b[0mb\u001b[0m \u001b[1;33m=\u001b[0m \u001b[0mtf\u001b[0m\u001b[1;33m.\u001b[0m\u001b[0mrandom\u001b[0m\u001b[1;33m.\u001b[0m\u001b[0mnormal\u001b[0m\u001b[1;33m(\u001b[0m\u001b[1;33m[\u001b[0m\u001b[1;36m4\u001b[0m\u001b[1;33m,\u001b[0m\u001b[1;36m32\u001b[0m\u001b[1;33m,\u001b[0m\u001b[1;36m4\u001b[0m\u001b[1;33m]\u001b[0m\u001b[1;33m)\u001b[0m\u001b[1;33m\u001b[0m\u001b[1;33m\u001b[0m\u001b[0m\n\u001b[1;32m----> 4\u001b[1;33m \u001b[0mtf\u001b[0m\u001b[1;33m.\u001b[0m\u001b[0mconcat\u001b[0m\u001b[1;33m(\u001b[0m\u001b[1;33m[\u001b[0m\u001b[0ma\u001b[0m\u001b[1;33m,\u001b[0m\u001b[0mb\u001b[0m\u001b[1;33m]\u001b[0m\u001b[1;33m,\u001b[0m \u001b[0maxis\u001b[0m\u001b[1;33m=\u001b[0m\u001b[1;36m0\u001b[0m\u001b[1;33m)\u001b[0m\u001b[1;33m.\u001b[0m\u001b[0mshape\u001b[0m\u001b[1;33m\u001b[0m\u001b[1;33m\u001b[0m\u001b[0m\n\u001b[0m\u001b[0;32m      5\u001b[0m \u001b[1;33m\u001b[0m\u001b[0m\n\u001b[0;32m      6\u001b[0m \u001b[1;31m#ConcatOp : Dimension 1 in both shapes must be equal: shape[0] = [10,35,4] vs. shape[1] = [4,32,4]\u001b[0m\u001b[1;33m\u001b[0m\u001b[1;33m\u001b[0m\u001b[1;33m\u001b[0m\u001b[0m\n",
      "\u001b[1;32mE:\\ProgramData\\anaconda3\\envs\\TensorFLow\\lib\\site-packages\\tensorflow\\python\\util\\traceback_utils.py\u001b[0m in \u001b[0;36merror_handler\u001b[1;34m(*args, **kwargs)\u001b[0m\n\u001b[0;32m    151\u001b[0m     \u001b[1;32mexcept\u001b[0m \u001b[0mException\u001b[0m \u001b[1;32mas\u001b[0m \u001b[0me\u001b[0m\u001b[1;33m:\u001b[0m\u001b[1;33m\u001b[0m\u001b[1;33m\u001b[0m\u001b[0m\n\u001b[0;32m    152\u001b[0m       \u001b[0mfiltered_tb\u001b[0m \u001b[1;33m=\u001b[0m \u001b[0m_process_traceback_frames\u001b[0m\u001b[1;33m(\u001b[0m\u001b[0me\u001b[0m\u001b[1;33m.\u001b[0m\u001b[0m__traceback__\u001b[0m\u001b[1;33m)\u001b[0m\u001b[1;33m\u001b[0m\u001b[1;33m\u001b[0m\u001b[0m\n\u001b[1;32m--> 153\u001b[1;33m       \u001b[1;32mraise\u001b[0m \u001b[0me\u001b[0m\u001b[1;33m.\u001b[0m\u001b[0mwith_traceback\u001b[0m\u001b[1;33m(\u001b[0m\u001b[0mfiltered_tb\u001b[0m\u001b[1;33m)\u001b[0m \u001b[1;32mfrom\u001b[0m \u001b[1;32mNone\u001b[0m\u001b[1;33m\u001b[0m\u001b[1;33m\u001b[0m\u001b[0m\n\u001b[0m\u001b[0;32m    154\u001b[0m     \u001b[1;32mfinally\u001b[0m\u001b[1;33m:\u001b[0m\u001b[1;33m\u001b[0m\u001b[1;33m\u001b[0m\u001b[0m\n\u001b[0;32m    155\u001b[0m       \u001b[1;32mdel\u001b[0m \u001b[0mfiltered_tb\u001b[0m\u001b[1;33m\u001b[0m\u001b[1;33m\u001b[0m\u001b[0m\n",
      "\u001b[1;32mE:\\ProgramData\\anaconda3\\envs\\TensorFLow\\lib\\site-packages\\tensorflow\\python\\framework\\ops.py\u001b[0m in \u001b[0;36mraise_from_not_ok_status\u001b[1;34m(e, name)\u001b[0m\n\u001b[0;32m   7207\u001b[0m \u001b[1;32mdef\u001b[0m \u001b[0mraise_from_not_ok_status\u001b[0m\u001b[1;33m(\u001b[0m\u001b[0me\u001b[0m\u001b[1;33m,\u001b[0m \u001b[0mname\u001b[0m\u001b[1;33m)\u001b[0m\u001b[1;33m:\u001b[0m\u001b[1;33m\u001b[0m\u001b[1;33m\u001b[0m\u001b[0m\n\u001b[0;32m   7208\u001b[0m   \u001b[0me\u001b[0m\u001b[1;33m.\u001b[0m\u001b[0mmessage\u001b[0m \u001b[1;33m+=\u001b[0m \u001b[1;33m(\u001b[0m\u001b[1;34m\" name: \"\u001b[0m \u001b[1;33m+\u001b[0m \u001b[0mname\u001b[0m \u001b[1;32mif\u001b[0m \u001b[0mname\u001b[0m \u001b[1;32mis\u001b[0m \u001b[1;32mnot\u001b[0m \u001b[1;32mNone\u001b[0m \u001b[1;32melse\u001b[0m \u001b[1;34m\"\"\u001b[0m\u001b[1;33m)\u001b[0m\u001b[1;33m\u001b[0m\u001b[1;33m\u001b[0m\u001b[0m\n\u001b[1;32m-> 7209\u001b[1;33m   \u001b[1;32mraise\u001b[0m \u001b[0mcore\u001b[0m\u001b[1;33m.\u001b[0m\u001b[0m_status_to_exception\u001b[0m\u001b[1;33m(\u001b[0m\u001b[0me\u001b[0m\u001b[1;33m)\u001b[0m \u001b[1;32mfrom\u001b[0m \u001b[1;32mNone\u001b[0m  \u001b[1;31m# pylint: disable=protected-access\u001b[0m\u001b[1;33m\u001b[0m\u001b[1;33m\u001b[0m\u001b[0m\n\u001b[0m\u001b[0;32m   7210\u001b[0m \u001b[1;33m\u001b[0m\u001b[0m\n\u001b[0;32m   7211\u001b[0m \u001b[1;33m\u001b[0m\u001b[0m\n",
      "\u001b[1;31mInvalidArgumentError\u001b[0m: {{function_node __wrapped__ConcatV2_N_2_device_/job:localhost/replica:0/task:0/device:CPU:0}} ConcatOp : Dimension 1 in both shapes must be equal: shape[0] = [10,35,4] vs. shape[1] = [4,32,4] [Op:ConcatV2] name: concat"
     ]
    }
   ],
   "source": [
    "#合并的维度，长度须一致\n",
    "a = tf.random.normal([10,35,4])\n",
    "b = tf.random.normal([4,32,4])\n",
    "tf.concat([a,b], axis=0).shape\n",
    "\n",
    "#ConcatOp : Dimension 1 in both shapes must be equal: shape[0] = [10,35,4] vs. shape[1] = [4,32,4]"
   ]
  },
  {
   "attachments": {
    "image.png": {
     "image/png": "[encoded data removed]"
    }
   },
   "cell_type": "markdown",
   "id": "70c70a0c",
   "metadata": {},
   "source": [
    "使用 tf.stack(tensors, axis)可以堆叠方式合并多个张量，通过tensors 列表表示，参数axis指定新维度插入的位置，axis的用法与tf.expand_dims 的一致，当axis ≥ 0时，在axis之前插入；当axis < 0时，在axis之后插入新维度。例如shape 为[𝑏, 𝑐, ℎ, 𝑤]的张量，在不同位置通过stack 操作插入新维度，axis参数对应的插入位置设置如下图所示：\n",
    "![image.png](attachment:image.png)"
   ]
  },
  {
   "cell_type": "code",
   "execution_count": 11,
   "id": "771c6480",
   "metadata": {},
   "outputs": [
    {
     "data": {
      "text/plain": [
       "(TensorShape([2, 35, 8]), TensorShape([35, 8, 2]))"
      ]
     },
     "execution_count": 11,
     "metadata": {},
     "output_type": "execute_result"
    }
   ],
   "source": [
    "#堆叠（会创造新的维度）\n",
    "a = tf.random.normal([35,8])\n",
    "b = tf.random.normal([35,8])\n",
    "tf.stack([a,b], axis=0).shape, tf.stack([a,b], axis=-1).shape"
   ]
  },
  {
   "cell_type": "code",
   "execution_count": 12,
   "id": "220320d7",
   "metadata": {},
   "outputs": [
    {
     "ename": "InvalidArgumentError",
     "evalue": "{{function_node __wrapped__Pack_N_2_device_/job:localhost/replica:0/task:0/device:CPU:0}} Shapes of all inputs must match: values[0].shape = [35,8] != values[1].shape = [35,4] [Op:Pack] name: stack",
     "output_type": "error",
     "traceback": [
      "\u001b[1;31m---------------------------------------------------------------------------\u001b[0m",
      "\u001b[1;31mInvalidArgumentError\u001b[0m                      Traceback (most recent call last)",
      "\u001b[1;32m~\\AppData\\Local\\Temp\\ipykernel_14776\\102743475.py\u001b[0m in \u001b[0;36m<module>\u001b[1;34m\u001b[0m\n\u001b[0;32m      3\u001b[0m \u001b[0ma\u001b[0m \u001b[1;33m=\u001b[0m \u001b[0mtf\u001b[0m\u001b[1;33m.\u001b[0m\u001b[0mrandom\u001b[0m\u001b[1;33m.\u001b[0m\u001b[0mnormal\u001b[0m\u001b[1;33m(\u001b[0m\u001b[1;33m[\u001b[0m\u001b[1;36m35\u001b[0m\u001b[1;33m,\u001b[0m\u001b[1;36m8\u001b[0m\u001b[1;33m]\u001b[0m\u001b[1;33m)\u001b[0m\u001b[1;33m\u001b[0m\u001b[1;33m\u001b[0m\u001b[0m\n\u001b[0;32m      4\u001b[0m \u001b[0mb\u001b[0m \u001b[1;33m=\u001b[0m \u001b[0mtf\u001b[0m\u001b[1;33m.\u001b[0m\u001b[0mrandom\u001b[0m\u001b[1;33m.\u001b[0m\u001b[0mnormal\u001b[0m\u001b[1;33m(\u001b[0m\u001b[1;33m[\u001b[0m\u001b[1;36m35\u001b[0m\u001b[1;33m,\u001b[0m\u001b[1;36m4\u001b[0m\u001b[1;33m]\u001b[0m\u001b[1;33m)\u001b[0m\u001b[1;33m\u001b[0m\u001b[1;33m\u001b[0m\u001b[0m\n\u001b[1;32m----> 5\u001b[1;33m \u001b[0mtf\u001b[0m\u001b[1;33m.\u001b[0m\u001b[0mstack\u001b[0m\u001b[1;33m(\u001b[0m\u001b[1;33m[\u001b[0m\u001b[0ma\u001b[0m\u001b[1;33m,\u001b[0m\u001b[0mb\u001b[0m\u001b[1;33m]\u001b[0m\u001b[1;33m,\u001b[0m \u001b[0maxis\u001b[0m\u001b[1;33m=\u001b[0m\u001b[1;36m0\u001b[0m\u001b[1;33m)\u001b[0m\u001b[1;33m.\u001b[0m\u001b[0mshape\u001b[0m\u001b[1;33m\u001b[0m\u001b[1;33m\u001b[0m\u001b[0m\n\u001b[0m",
      "\u001b[1;32mE:\\ProgramData\\anaconda3\\envs\\TensorFLow\\lib\\site-packages\\tensorflow\\python\\util\\traceback_utils.py\u001b[0m in \u001b[0;36merror_handler\u001b[1;34m(*args, **kwargs)\u001b[0m\n\u001b[0;32m    151\u001b[0m     \u001b[1;32mexcept\u001b[0m \u001b[0mException\u001b[0m \u001b[1;32mas\u001b[0m \u001b[0me\u001b[0m\u001b[1;33m:\u001b[0m\u001b[1;33m\u001b[0m\u001b[1;33m\u001b[0m\u001b[0m\n\u001b[0;32m    152\u001b[0m       \u001b[0mfiltered_tb\u001b[0m \u001b[1;33m=\u001b[0m \u001b[0m_process_traceback_frames\u001b[0m\u001b[1;33m(\u001b[0m\u001b[0me\u001b[0m\u001b[1;33m.\u001b[0m\u001b[0m__traceback__\u001b[0m\u001b[1;33m)\u001b[0m\u001b[1;33m\u001b[0m\u001b[1;33m\u001b[0m\u001b[0m\n\u001b[1;32m--> 153\u001b[1;33m       \u001b[1;32mraise\u001b[0m \u001b[0me\u001b[0m\u001b[1;33m.\u001b[0m\u001b[0mwith_traceback\u001b[0m\u001b[1;33m(\u001b[0m\u001b[0mfiltered_tb\u001b[0m\u001b[1;33m)\u001b[0m \u001b[1;32mfrom\u001b[0m \u001b[1;32mNone\u001b[0m\u001b[1;33m\u001b[0m\u001b[1;33m\u001b[0m\u001b[0m\n\u001b[0m\u001b[0;32m    154\u001b[0m     \u001b[1;32mfinally\u001b[0m\u001b[1;33m:\u001b[0m\u001b[1;33m\u001b[0m\u001b[1;33m\u001b[0m\u001b[0m\n\u001b[0;32m    155\u001b[0m       \u001b[1;32mdel\u001b[0m \u001b[0mfiltered_tb\u001b[0m\u001b[1;33m\u001b[0m\u001b[1;33m\u001b[0m\u001b[0m\n",
      "\u001b[1;32mE:\\ProgramData\\anaconda3\\envs\\TensorFLow\\lib\\site-packages\\tensorflow\\python\\framework\\ops.py\u001b[0m in \u001b[0;36mraise_from_not_ok_status\u001b[1;34m(e, name)\u001b[0m\n\u001b[0;32m   7207\u001b[0m \u001b[1;32mdef\u001b[0m \u001b[0mraise_from_not_ok_status\u001b[0m\u001b[1;33m(\u001b[0m\u001b[0me\u001b[0m\u001b[1;33m,\u001b[0m \u001b[0mname\u001b[0m\u001b[1;33m)\u001b[0m\u001b[1;33m:\u001b[0m\u001b[1;33m\u001b[0m\u001b[1;33m\u001b[0m\u001b[0m\n\u001b[0;32m   7208\u001b[0m   \u001b[0me\u001b[0m\u001b[1;33m.\u001b[0m\u001b[0mmessage\u001b[0m \u001b[1;33m+=\u001b[0m \u001b[1;33m(\u001b[0m\u001b[1;34m\" name: \"\u001b[0m \u001b[1;33m+\u001b[0m \u001b[0mname\u001b[0m \u001b[1;32mif\u001b[0m \u001b[0mname\u001b[0m \u001b[1;32mis\u001b[0m \u001b[1;32mnot\u001b[0m \u001b[1;32mNone\u001b[0m \u001b[1;32melse\u001b[0m \u001b[1;34m\"\"\u001b[0m\u001b[1;33m)\u001b[0m\u001b[1;33m\u001b[0m\u001b[1;33m\u001b[0m\u001b[0m\n\u001b[1;32m-> 7209\u001b[1;33m   \u001b[1;32mraise\u001b[0m \u001b[0mcore\u001b[0m\u001b[1;33m.\u001b[0m\u001b[0m_status_to_exception\u001b[0m\u001b[1;33m(\u001b[0m\u001b[0me\u001b[0m\u001b[1;33m)\u001b[0m \u001b[1;32mfrom\u001b[0m \u001b[1;32mNone\u001b[0m  \u001b[1;31m# pylint: disable=protected-access\u001b[0m\u001b[1;33m\u001b[0m\u001b[1;33m\u001b[0m\u001b[0m\n\u001b[0m\u001b[0;32m   7210\u001b[0m \u001b[1;33m\u001b[0m\u001b[0m\n\u001b[0;32m   7211\u001b[0m \u001b[1;33m\u001b[0m\u001b[0m\n",
      "\u001b[1;31mInvalidArgumentError\u001b[0m: {{function_node __wrapped__Pack_N_2_device_/job:localhost/replica:0/task:0/device:CPU:0}} Shapes of all inputs must match: values[0].shape = [35,8] != values[1].shape = [35,4] [Op:Pack] name: stack"
     ]
    }
   ],
   "source": [
    "#使用tf.stack()时，待合并的张量shape必须完全一致\n",
    "\n",
    "a = tf.random.normal([35,8])\n",
    "b = tf.random.normal([35,4])\n",
    "tf.stack([a,b], axis=0).shape"
   ]
  },
  {
   "cell_type": "markdown",
   "id": "750e1c39",
   "metadata": {},
   "source": [
    "张量分割"
   ]
  },
  {
   "cell_type": "markdown",
   "id": "d435a3e9",
   "metadata": {},
   "source": [
    "通过tf.split(x, num_or_size_splits, axis)可以完成张量的分割操作。"
   ]
  },
  {
   "cell_type": "markdown",
   "id": "a718525d",
   "metadata": {},
   "source": [
    "当num_or_size_splits为单个数值时，如10，表示等长切割为10 份；当num_or_size_splits为List时，List的每个元素表示每份的长\n",
    "度，如[2,4,2,2]表示切割为4份，每份的长度依次是2、4、2、2。"
   ]
  },
  {
   "cell_type": "markdown",
   "id": "ada6e2cb",
   "metadata": {},
   "source": [
    "axis参数：指定分割的维度索引号"
   ]
  },
  {
   "cell_type": "code",
   "execution_count": 15,
   "id": "af4e10d7",
   "metadata": {},
   "outputs": [
    {
     "data": {
      "text/plain": [
       "10"
      ]
     },
     "execution_count": 15,
     "metadata": {},
     "output_type": "execute_result"
    }
   ],
   "source": [
    "x = tf.random.normal([10,35,8])\n",
    "result = tf.split(x, num_or_size_splits=10, axis=0)\n",
    "len(result) #tf.split的返回值是一个包含张量的列表（List[tf.Tensor]）"
   ]
  },
  {
   "cell_type": "code",
   "execution_count": 16,
   "id": "2945636b",
   "metadata": {},
   "outputs": [
    {
     "data": {
      "text/plain": [
       "TensorShape([1, 35, 8])"
      ]
     },
     "execution_count": 16,
     "metadata": {},
     "output_type": "execute_result"
    }
   ],
   "source": [
    "#分割并不会删除维度\n",
    "result[0].shape"
   ]
  },
  {
   "cell_type": "code",
   "execution_count": 17,
   "id": "e9fe3c83",
   "metadata": {},
   "outputs": [
    {
     "data": {
      "text/plain": [
       "(4, TensorShape([4, 35, 8]), TensorShape([2, 35, 8]))"
      ]
     },
     "execution_count": 17,
     "metadata": {},
     "output_type": "execute_result"
    }
   ],
   "source": [
    "x = tf.random.normal([10,35,8])\n",
    "result = tf.split(x, num_or_size_splits=[4,2,2,2], axis=0)\n",
    "len(result), result[0].shape, result[1].shape"
   ]
  },
  {
   "cell_type": "markdown",
   "id": "6ce0f537",
   "metadata": {},
   "source": [
    "特别地，如果希望在某个维度上全部按长度为1的方式分割，还可以使用tf.unstack(x,axis)函数。这种方式是tf.split的一种特殊情况，切割长度固定为1，只需要指定切割维度的索引号即可。"
   ]
  },
  {
   "cell_type": "code",
   "execution_count": 18,
   "id": "73e29696",
   "metadata": {},
   "outputs": [
    {
     "data": {
      "text/plain": [
       "(10, TensorShape([35, 8]))"
      ]
     },
     "execution_count": 18,
     "metadata": {},
     "output_type": "execute_result"
    }
   ],
   "source": [
    "x = tf.random.normal([10,35,8])\n",
    "result = tf.unstack(x, axis=0)\n",
    "len(result), result[0].shape\n",
    "\n",
    "#tf.unstack是会删除维度的，这一点和tf.split有区别"
   ]
  },
  {
   "cell_type": "markdown",
   "id": "50f20ef2",
   "metadata": {},
   "source": [
    "# 数据统计"
   ]
  },
  {
   "cell_type": "markdown",
   "id": "8256aa80",
   "metadata": {},
   "source": [
    "向量范数(Vector Norm)是表征向量“长度”的一种度量方法，它可以推广到张量上。在神经网络中，常用来表示张量的权值大小，梯度大小等。常用的向量范数有L1范数、L2范数、∞范数等。"
   ]
  },
  {
   "cell_type": "code",
   "execution_count": 21,
   "id": "21a2e49d",
   "metadata": {},
   "outputs": [
    {
     "data": {
      "text/plain": [
       "(<tf.Tensor: shape=(), dtype=float32, numpy=4.0>,\n",
       " <tf.Tensor: shape=(), dtype=float32, numpy=2.0>,\n",
       " <tf.Tensor: shape=(), dtype=float32, numpy=1.0>)"
      ]
     },
     "execution_count": 21,
     "metadata": {},
     "output_type": "execute_result"
    }
   ],
   "source": [
    "x = tf.ones([2,2])\n",
    "#计算L1、L2和∞范数\n",
    "import numpy as np\n",
    "tf.norm(x, ord=1), tf.norm(x, ord=2), tf.norm(x, ord=np.inf)"
   ]
  },
  {
   "cell_type": "markdown",
   "id": "25a57d33",
   "metadata": {},
   "source": [
    "最值、均值、和"
   ]
  },
  {
   "cell_type": "markdown",
   "id": "b4c15978",
   "metadata": {},
   "source": [
    "假设有一个shape为[4, 10]的张量，第一个维度为样本数量，第二个维度为样本所属十个类别的概率。下面计算每个样本的概率最大值、最小值、平均值。"
   ]
  },
  {
   "cell_type": "code",
   "execution_count": 25,
   "id": "03dfa212",
   "metadata": {
    "scrolled": true
   },
   "outputs": [
    {
     "data": {
      "text/plain": [
       "(<tf.Tensor: shape=(4,), dtype=float32, numpy=array([2.248604  , 1.3000786 , 0.84449095, 2.0049062 ], dtype=float32)>,\n",
       " <tf.Tensor: shape=(4,), dtype=float32, numpy=array([-0.5636837, -1.6641495, -2.3166983, -0.6469041], dtype=float32)>,\n",
       " <tf.Tensor: shape=(4,), dtype=float32, numpy=array([ 0.4611761 , -0.09695584, -0.31521004,  0.17050974], dtype=float32)>)"
      ]
     },
     "execution_count": 25,
     "metadata": {},
     "output_type": "execute_result"
    }
   ],
   "source": [
    "#在指定维度（即概率维度）上的最值和均值\n",
    "x = tf.random.normal([4,10])\n",
    "tf.reduce_max(x, axis=1), tf.reduce_min(x, axis=1), tf.reduce_mean(x, axis=1)"
   ]
  },
  {
   "cell_type": "code",
   "execution_count": 26,
   "id": "e99bca7f",
   "metadata": {},
   "outputs": [
    {
     "data": {
      "text/plain": [
       "(<tf.Tensor: shape=(), dtype=float32, numpy=2.4316761>,\n",
       " <tf.Tensor: shape=(), dtype=float32, numpy=-1.7545053>,\n",
       " <tf.Tensor: shape=(), dtype=float32, numpy=0.0511338>)"
      ]
     },
     "execution_count": 26,
     "metadata": {},
     "output_type": "execute_result"
    }
   ],
   "source": [
    "#不指定维度的时候，统计全局的最值、均值\n",
    "x = tf.random.normal([4,10])\n",
    "tf.reduce_max(x), tf.reduce_min(x), tf.reduce_mean(x)"
   ]
  },
  {
   "cell_type": "code",
   "execution_count": 28,
   "id": "2bd0e495",
   "metadata": {},
   "outputs": [
    {
     "data": {
      "text/plain": [
       "<tf.Tensor: shape=(), dtype=float32, numpy=1.0624083>"
      ]
     },
     "execution_count": 28,
     "metadata": {},
     "output_type": "execute_result"
    }
   ],
   "source": [
    "#Another Example: MSE误差均值\n",
    "from tensorflow import keras\n",
    "\n",
    "out = tf.random.normal([4,10])\n",
    "y = tf.constant([1,2,2,0])\n",
    "y = tf.one_hot(y, depth=10)\n",
    "loss = keras.losses.mse(y, out)\n",
    "loss = tf.reduce_mean(loss)\n",
    "loss"
   ]
  },
  {
   "cell_type": "code",
   "execution_count": 29,
   "id": "68edd42e",
   "metadata": {},
   "outputs": [
    {
     "data": {
      "text/plain": [
       "<tf.Tensor: shape=(4,), dtype=float32, numpy=array([-1.2418913 ,  1.8432375 ,  0.27690756,  1.7015018 ], dtype=float32)>"
      ]
     },
     "execution_count": 29,
     "metadata": {},
     "output_type": "execute_result"
    }
   ],
   "source": [
    "#求和\n",
    "out = tf.random.normal([4,10])\n",
    "tf.reduce_sum(out, axis=-1) #在最后一个维度求和"
   ]
  },
  {
   "cell_type": "markdown",
   "id": "c12c4392",
   "metadata": {},
   "source": [
    "除了希望获取张量的最值信息，还希望获得最值所在的位置索引号，例如分类任务的标签预测，就需要知道概率最大值所在的位置索引号，一般把这个位置索引号作为预测类别。"
   ]
  },
  {
   "cell_type": "code",
   "execution_count": 30,
   "id": "5fd74bea",
   "metadata": {},
   "outputs": [
    {
     "data": {
      "text/plain": [
       "<tf.Tensor: shape=(2, 10), dtype=float32, numpy=\n",
       "array([[0.07443904, 0.10277164, 0.12366758, 0.06051135, 0.14374416,\n",
       "        0.02268741, 0.07035   , 0.0755621 , 0.07718573, 0.24908096],\n",
       "       [0.13174042, 0.01519472, 0.21724297, 0.0175899 , 0.15799078,\n",
       "        0.12757163, 0.07850946, 0.09845512, 0.03659589, 0.11910909]],\n",
       "      dtype=float32)>"
      ]
     },
     "execution_count": 30,
     "metadata": {},
     "output_type": "execute_result"
    }
   ],
   "source": [
    "#先创建一组样本\n",
    "out = tf.random.normal([2,10])\n",
    "out = tf.nn.softmax(out, axis=1) #通过softmax函数转换为概率值\n",
    "out"
   ]
  },
  {
   "cell_type": "markdown",
   "id": "290ff7d6",
   "metadata": {},
   "source": [
    "在上述样本中，根据每个样本对应分类的概率的最高值，可以推测样本属于该类别。"
   ]
  },
  {
   "cell_type": "code",
   "execution_count": 31,
   "id": "0294ae83",
   "metadata": {},
   "outputs": [
    {
     "data": {
      "text/plain": [
       "<tf.Tensor: shape=(2,), dtype=int64, numpy=array([9, 2], dtype=int64)>"
      ]
     },
     "execution_count": 31,
     "metadata": {},
     "output_type": "execute_result"
    }
   ],
   "source": [
    "#求解最大值的索引\n",
    "pred = tf.argmax(out, axis=1)\n",
    "pred"
   ]
  },
  {
   "cell_type": "markdown",
   "id": "b61c677e",
   "metadata": {},
   "source": [
    "张量比较"
   ]
  },
  {
   "cell_type": "code",
   "execution_count": 33,
   "id": "05120799",
   "metadata": {},
   "outputs": [
    {
     "data": {
      "text/plain": [
       "<tf.Tensor: shape=(100,), dtype=int64, numpy=\n",
       "array([4, 2, 5, 1, 1, 6, 6, 1, 0, 2, 1, 5, 0, 9, 8, 7, 6, 3, 9, 0, 9, 4,\n",
       "       3, 1, 8, 6, 3, 4, 3, 5, 9, 3, 8, 5, 6, 2, 5, 7, 0, 6, 5, 8, 0, 0,\n",
       "       5, 2, 4, 2, 8, 4, 0, 8, 4, 7, 9, 2, 6, 4, 5, 1, 3, 1, 9, 9, 9, 4,\n",
       "       6, 5, 5, 5, 4, 7, 6, 4, 8, 8, 2, 6, 7, 3, 2, 9, 5, 2, 7, 9, 2, 9,\n",
       "       5, 8, 6, 6, 6, 1, 6, 3, 3, 9, 9, 6], dtype=int64)>"
      ]
     },
     "execution_count": 33,
     "metadata": {},
     "output_type": "execute_result"
    }
   ],
   "source": [
    "out = tf.random.normal([100,10]) #考虑100个样本的预测结果\n",
    "out = tf.nn.softmax(out, axis=1)\n",
    "pred = tf.argmax(out, axis=1)\n",
    "pred"
   ]
  },
  {
   "cell_type": "code",
   "execution_count": 35,
   "id": "fc4fbdc9",
   "metadata": {},
   "outputs": [
    {
     "data": {
      "text/plain": [
       "<tf.Tensor: shape=(100,), dtype=int64, numpy=\n",
       "array([4, 7, 0, 5, 1, 0, 6, 6, 2, 2, 5, 8, 1, 2, 6, 3, 7, 9, 5, 4, 7, 2,\n",
       "       8, 6, 1, 2, 9, 8, 4, 2, 9, 8, 7, 7, 2, 9, 9, 9, 1, 7, 6, 2, 8, 7,\n",
       "       4, 2, 8, 4, 6, 9, 8, 0, 5, 2, 2, 7, 3, 0, 2, 7, 8, 5, 3, 0, 4, 0,\n",
       "       0, 4, 4, 9, 8, 5, 2, 1, 3, 8, 9, 8, 2, 7, 9, 4, 0, 2, 6, 4, 9, 0,\n",
       "       3, 1, 7, 9, 2, 7, 6, 2, 8, 9, 3, 6], dtype=int64)>"
      ]
     },
     "execution_count": 35,
     "metadata": {},
     "output_type": "execute_result"
    }
   ],
   "source": [
    "#生成一组结果，假设其为真实值\n",
    "y = tf.random.uniform([100], dtype=tf.int64, maxval=10)\n",
    "y"
   ]
  },
  {
   "cell_type": "code",
   "execution_count": 37,
   "id": "c7ce42de",
   "metadata": {},
   "outputs": [
    {
     "data": {
      "text/plain": [
       "<tf.Tensor: shape=(100,), dtype=bool, numpy=\n",
       "array([ True, False, False, False,  True, False,  True, False, False,\n",
       "        True, False, False, False, False, False, False, False, False,\n",
       "       False, False, False, False, False, False, False, False, False,\n",
       "       False, False, False,  True, False, False, False, False, False,\n",
       "       False, False, False, False, False, False, False, False, False,\n",
       "        True, False, False, False, False, False, False, False, False,\n",
       "       False, False, False, False, False, False, False, False, False,\n",
       "       False, False, False, False, False, False, False, False, False,\n",
       "       False, False, False,  True, False, False, False, False, False,\n",
       "       False, False,  True, False, False, False, False, False, False,\n",
       "       False, False, False, False,  True, False, False,  True, False,\n",
       "        True])>"
      ]
     },
     "execution_count": 37,
     "metadata": {},
     "output_type": "execute_result"
    }
   ],
   "source": [
    "#将预测值与真实值进行比较\n",
    "out = tf.equal(pred, y) #tf.equal()函数返回布尔类型的张量比较结果\n",
    "out"
   ]
  },
  {
   "cell_type": "code",
   "execution_count": 39,
   "id": "8e2d3ec1",
   "metadata": {},
   "outputs": [
    {
     "data": {
      "text/plain": [
       "<tf.Tensor: shape=(), dtype=int32, numpy=11>"
      ]
     },
     "execution_count": 39,
     "metadata": {},
     "output_type": "execute_result"
    }
   ],
   "source": [
    "out = tf.cast(out, dtype=tf.int32) #将布尔类型转换为整型，便于统计True的个数\n",
    "correct = tf.reduce_sum(out)\n",
    "correct #correct/100（本次样本数）=正确率"
   ]
  },
  {
   "attachments": {
    "image.png": {
     "image/png": "[encoded data removed]"
    }
   },
   "cell_type": "markdown",
   "id": "00308ba4",
   "metadata": {},
   "source": [
    "除了比较相等的tf.equal(a, b)函数，其它的比较函数用法类似：\n",
    "![image.png](attachment:image.png)"
   ]
  },
  {
   "cell_type": "markdown",
   "id": "d8126524",
   "metadata": {},
   "source": [
    "填充与复制"
   ]
  },
  {
   "cell_type": "markdown",
   "id": "cd61d665",
   "metadata": {},
   "source": [
    "填充操作可以通过tf.pad(x, paddings)函数实现，参数paddings 是包含了多个[Left Padding, Right Padding]的嵌套方案List，如[[0,0], [2,1], [1,2]]表示第一个维度不填充，第二个维度左边(起始处)填充两个单元，右边(结束处)填充一个单元，第三个维度左边填充一个单元，右边填充两个单元。"
   ]
  },
  {
   "cell_type": "code",
   "execution_count": 41,
   "id": "ebd0a8e4",
   "metadata": {},
   "outputs": [
    {
     "data": {
      "text/plain": [
       "<tf.Tensor: shape=(6,), dtype=int32, numpy=array([7, 8, 1, 6, 0, 0])>"
      ]
     },
     "execution_count": 41,
     "metadata": {},
     "output_type": "execute_result"
    }
   ],
   "source": [
    "a = tf.constant([1,2,3,4,5,6])\n",
    "b = tf.constant([7,8,1,6])\n",
    "b = tf.pad(b, [[0,2]])\n",
    "b"
   ]
  },
  {
   "cell_type": "markdown",
   "id": "d34baa84",
   "metadata": {},
   "source": [
    "*《TensorFLow深度学习》5.4.1节最后提到了NLP和CV领域应用Padding的例子。"
   ]
  },
  {
   "cell_type": "markdown",
   "id": "7a143fbb",
   "metadata": {},
   "source": [
    "张量复制"
   ]
  },
  {
   "cell_type": "markdown",
   "id": "83f3afc6",
   "metadata": {},
   "source": [
    "参考数据变换小节的tf.tile()。除了对长度为1的维度进行复制，实际上，tf.tile()可以对任意长度的维度进行复制。"
   ]
  },
  {
   "cell_type": "code",
   "execution_count": 42,
   "id": "67a68fa9",
   "metadata": {},
   "outputs": [
    {
     "data": {
      "text/plain": [
       "TensorShape([8, 96, 96, 3])"
      ]
     },
     "execution_count": 42,
     "metadata": {},
     "output_type": "execute_result"
    }
   ],
   "source": [
    "x = tf.random.normal([4,32,32,3])\n",
    "tf.tile(x, [2,3,3,1]).shape"
   ]
  },
  {
   "cell_type": "markdown",
   "id": "bec950f3",
   "metadata": {},
   "source": [
    "数据限幅"
   ]
  },
  {
   "cell_type": "markdown",
   "id": "bb864e75",
   "metadata": {},
   "source": [
    "可以通过tf.maximum(x, a)实现数据的下限幅，即𝑥 ∈ [𝑎, +∞)；可\n",
    "以通过tf.minimum(x, a)实现数据的上限幅，即𝑥 ∈ (−∞, 𝑎]。"
   ]
  },
  {
   "cell_type": "code",
   "execution_count": 43,
   "id": "aa0cf3d3",
   "metadata": {},
   "outputs": [
    {
     "data": {
      "text/plain": [
       "(<tf.Tensor: shape=(9,), dtype=int32, numpy=array([3, 3, 3, 3, 4, 5, 6, 7, 8])>,\n",
       " <tf.Tensor: shape=(9,), dtype=int32, numpy=array([0, 1, 2, 3, 4, 5, 6, 7, 7])>)"
      ]
     },
     "execution_count": 43,
     "metadata": {},
     "output_type": "execute_result"
    }
   ],
   "source": [
    "x = tf.range(9)\n",
    "tf.maximum(x, 3), tf.minimum(x, 7)"
   ]
  },
  {
   "cell_type": "code",
   "execution_count": 44,
   "id": "5532a2f9",
   "metadata": {},
   "outputs": [],
   "source": [
    "#Another Example\n",
    "#实现ReLU函数\n",
    "def relu(x):\n",
    "    return tf.maximum(x, 0.) #下限提高到0"
   ]
  },
  {
   "cell_type": "code",
   "execution_count": 47,
   "id": "b8857d62",
   "metadata": {},
   "outputs": [
    {
     "data": {
      "text/plain": [
       "<tf.Tensor: shape=(9,), dtype=int32, numpy=array([2, 2, 2, 3, 4, 5, 6, 7, 7])>"
      ]
     },
     "execution_count": 47,
     "metadata": {},
     "output_type": "execute_result"
    }
   ],
   "source": [
    "#Another Example\n",
    "x = tf.range(9)\n",
    "tf.minimum(tf.maximum(x, 2), 7) #限幅2~7"
   ]
  },
  {
   "cell_type": "code",
   "execution_count": 48,
   "id": "f072ff47",
   "metadata": {},
   "outputs": [
    {
     "data": {
      "text/plain": [
       "<tf.Tensor: shape=(9,), dtype=int32, numpy=array([2, 2, 2, 3, 4, 5, 6, 7, 7])>"
      ]
     },
     "execution_count": 48,
     "metadata": {},
     "output_type": "execute_result"
    }
   ],
   "source": [
    "#更方便地，可以使用tf.clip_by_value函数实现限幅\n",
    "x = tf.range(9)\n",
    "tf.clip_by_value(x, 2, 7)"
   ]
  },
  {
   "cell_type": "markdown",
   "id": "d0b0157c",
   "metadata": {},
   "source": [
    "高级操作"
   ]
  },
  {
   "cell_type": "code",
   "execution_count": 50,
   "id": "e3202a1e",
   "metadata": {},
   "outputs": [
    {
     "data": {
      "text/plain": [
       "<tf.Tensor: shape=(2, 35, 8), dtype=int32, numpy=\n",
       "array([[[15, 96,  9, 59, 72, 12, 48,  5],\n",
       "        [78, 41, 73, 80,  2, 98,  6, 69],\n",
       "        [14, 30, 59, 75, 33, 24, 26, 48],\n",
       "        [23, 43, 51, 77, 67, 90, 66, 48],\n",
       "        [99, 26,  8, 41,  0, 97, 15, 25],\n",
       "        [38, 61, 47, 35,  1, 43, 46, 22],\n",
       "        [38, 41, 36, 16,  0, 38, 61, 64],\n",
       "        [92, 92, 40,  4, 59, 96, 93, 73],\n",
       "        [ 2, 47, 10, 57, 77, 70, 92, 76],\n",
       "        [37, 99, 54, 36, 54,  5,  3, 55],\n",
       "        [10, 58, 58,  8, 33, 55, 65, 27],\n",
       "        [22, 52, 18, 55, 78, 15, 21, 59],\n",
       "        [39, 89, 92, 81, 62, 53, 54, 75],\n",
       "        [75, 28, 26,  8, 20, 29,  4, 42],\n",
       "        [16, 35, 63, 18, 19, 13, 67, 75],\n",
       "        [80, 41,  7, 77, 43, 22, 21, 93],\n",
       "        [67, 39, 16, 51, 77, 54, 51, 71],\n",
       "        [46, 18, 72, 79, 25, 42, 84, 89],\n",
       "        [74, 38, 27, 32, 88, 86, 83, 33],\n",
       "        [ 0, 54, 62,  8, 81, 75, 20, 42],\n",
       "        [19, 25, 40, 70, 50, 64, 70, 17],\n",
       "        [83, 88,  8, 42, 41, 26, 58, 34],\n",
       "        [99, 20, 55, 71, 50, 42, 39, 77],\n",
       "        [70, 73, 83, 64, 59, 18, 29, 23],\n",
       "        [15, 75, 20, 58, 35, 86, 72, 24],\n",
       "        [89, 24, 35,  3, 60,  2, 49, 76],\n",
       "        [31, 86, 63, 17, 24, 80, 24, 35],\n",
       "        [16, 14, 52, 44, 74, 80,  4, 39],\n",
       "        [97, 72, 53, 67, 97, 95, 30, 21],\n",
       "        [80, 71, 16, 35, 79, 42, 37, 70],\n",
       "        [33, 92, 58, 15, 36, 98, 90, 22],\n",
       "        [11,  1, 22, 87, 38, 62, 20, 22],\n",
       "        [ 2, 20, 31, 60,  0, 40, 21, 17],\n",
       "        [25, 28, 34, 93, 13,  4,  3,  4],\n",
       "        [42, 24, 78, 42, 76, 26, 15,  1]],\n",
       "\n",
       "       [[25, 31, 89, 76, 88, 56, 25,  8],\n",
       "        [73, 83, 93, 60, 55, 97, 56, 29],\n",
       "        [23, 43, 92, 28, 87, 61, 32,  2],\n",
       "        [23, 91, 18, 48, 43, 24,  8, 12],\n",
       "        [99, 92, 10, 41, 75, 84, 37, 41],\n",
       "        [51, 77, 96, 76, 39, 99, 46, 40],\n",
       "        [ 2, 69, 76, 49, 94, 12, 87, 46],\n",
       "        [19, 95, 56,  0, 65, 77, 77, 84],\n",
       "        [ 7, 38, 49, 38, 60, 40, 95,  4],\n",
       "        [ 7, 79, 97, 59, 84, 91,  4, 71],\n",
       "        [72, 89, 93, 85, 51, 87, 89, 50],\n",
       "        [54, 23,  1,  6, 96, 63, 23, 51],\n",
       "        [78, 20, 78, 17, 94, 72, 56,  1],\n",
       "        [16, 14, 42,  2, 75, 91, 75, 79],\n",
       "        [56, 69, 65, 22, 40, 68, 51, 40],\n",
       "        [26, 82, 31, 12, 72, 54, 15, 37],\n",
       "        [11, 95, 58, 12, 51, 81, 22,  2],\n",
       "        [17, 52, 55, 11, 10, 82, 98,  8],\n",
       "        [93, 72, 94, 94,  6, 91,  0, 87],\n",
       "        [ 7, 78,  4, 18, 49, 65, 85, 79],\n",
       "        [52, 39, 16, 96, 57, 56, 66, 27],\n",
       "        [74,  6, 48, 36, 50, 28,  0, 40],\n",
       "        [56, 96, 31, 50, 12, 92,  1, 66],\n",
       "        [10, 74, 12, 44, 53, 44, 22, 61],\n",
       "        [19, 38, 20, 55, 26, 18, 61, 99],\n",
       "        [69, 28, 56, 93, 18, 18,  0, 20],\n",
       "        [79, 89,  1, 38, 89, 59, 48, 57],\n",
       "        [88, 42, 87, 37, 51, 63, 17, 58],\n",
       "        [86, 66, 31, 17, 29, 97,  5, 62],\n",
       "        [83, 79, 94, 57, 36, 38, 27, 20],\n",
       "        [70, 44, 15, 20, 49, 59, 23, 87],\n",
       "        [51, 90,  1, 79, 33,  7, 47, 80],\n",
       "        [34, 31, 68, 40, 21, 38,  0, 33],\n",
       "        [99, 21, 31,  5, 22,  3, 87, 64],\n",
       "        [31,  8, 41,  6, 11,  9, 32,  8]]])>"
      ]
     },
     "execution_count": 50,
     "metadata": {},
     "output_type": "execute_result"
    }
   ],
   "source": [
    "#tf.gather\n",
    "#例如4个班级，每班35个学生，8科考试成绩\n",
    "x = tf.random.uniform([4,35,8], maxval=100, dtype=tf.int32)\n",
    "#收集前两个班级的成绩\n",
    "tf.gather(x, [0,1], axis=0)"
   ]
  },
  {
   "cell_type": "code",
   "execution_count": 52,
   "id": "bbd0e395",
   "metadata": {},
   "outputs": [
    {
     "data": {
      "text/plain": [
       "<tf.Tensor: shape=(2, 35, 8), dtype=int32, numpy=\n",
       "array([[[15, 96,  9, 59, 72, 12, 48,  5],\n",
       "        [78, 41, 73, 80,  2, 98,  6, 69],\n",
       "        [14, 30, 59, 75, 33, 24, 26, 48],\n",
       "        [23, 43, 51, 77, 67, 90, 66, 48],\n",
       "        [99, 26,  8, 41,  0, 97, 15, 25],\n",
       "        [38, 61, 47, 35,  1, 43, 46, 22],\n",
       "        [38, 41, 36, 16,  0, 38, 61, 64],\n",
       "        [92, 92, 40,  4, 59, 96, 93, 73],\n",
       "        [ 2, 47, 10, 57, 77, 70, 92, 76],\n",
       "        [37, 99, 54, 36, 54,  5,  3, 55],\n",
       "        [10, 58, 58,  8, 33, 55, 65, 27],\n",
       "        [22, 52, 18, 55, 78, 15, 21, 59],\n",
       "        [39, 89, 92, 81, 62, 53, 54, 75],\n",
       "        [75, 28, 26,  8, 20, 29,  4, 42],\n",
       "        [16, 35, 63, 18, 19, 13, 67, 75],\n",
       "        [80, 41,  7, 77, 43, 22, 21, 93],\n",
       "        [67, 39, 16, 51, 77, 54, 51, 71],\n",
       "        [46, 18, 72, 79, 25, 42, 84, 89],\n",
       "        [74, 38, 27, 32, 88, 86, 83, 33],\n",
       "        [ 0, 54, 62,  8, 81, 75, 20, 42],\n",
       "        [19, 25, 40, 70, 50, 64, 70, 17],\n",
       "        [83, 88,  8, 42, 41, 26, 58, 34],\n",
       "        [99, 20, 55, 71, 50, 42, 39, 77],\n",
       "        [70, 73, 83, 64, 59, 18, 29, 23],\n",
       "        [15, 75, 20, 58, 35, 86, 72, 24],\n",
       "        [89, 24, 35,  3, 60,  2, 49, 76],\n",
       "        [31, 86, 63, 17, 24, 80, 24, 35],\n",
       "        [16, 14, 52, 44, 74, 80,  4, 39],\n",
       "        [97, 72, 53, 67, 97, 95, 30, 21],\n",
       "        [80, 71, 16, 35, 79, 42, 37, 70],\n",
       "        [33, 92, 58, 15, 36, 98, 90, 22],\n",
       "        [11,  1, 22, 87, 38, 62, 20, 22],\n",
       "        [ 2, 20, 31, 60,  0, 40, 21, 17],\n",
       "        [25, 28, 34, 93, 13,  4,  3,  4],\n",
       "        [42, 24, 78, 42, 76, 26, 15,  1]],\n",
       "\n",
       "       [[25, 31, 89, 76, 88, 56, 25,  8],\n",
       "        [73, 83, 93, 60, 55, 97, 56, 29],\n",
       "        [23, 43, 92, 28, 87, 61, 32,  2],\n",
       "        [23, 91, 18, 48, 43, 24,  8, 12],\n",
       "        [99, 92, 10, 41, 75, 84, 37, 41],\n",
       "        [51, 77, 96, 76, 39, 99, 46, 40],\n",
       "        [ 2, 69, 76, 49, 94, 12, 87, 46],\n",
       "        [19, 95, 56,  0, 65, 77, 77, 84],\n",
       "        [ 7, 38, 49, 38, 60, 40, 95,  4],\n",
       "        [ 7, 79, 97, 59, 84, 91,  4, 71],\n",
       "        [72, 89, 93, 85, 51, 87, 89, 50],\n",
       "        [54, 23,  1,  6, 96, 63, 23, 51],\n",
       "        [78, 20, 78, 17, 94, 72, 56,  1],\n",
       "        [16, 14, 42,  2, 75, 91, 75, 79],\n",
       "        [56, 69, 65, 22, 40, 68, 51, 40],\n",
       "        [26, 82, 31, 12, 72, 54, 15, 37],\n",
       "        [11, 95, 58, 12, 51, 81, 22,  2],\n",
       "        [17, 52, 55, 11, 10, 82, 98,  8],\n",
       "        [93, 72, 94, 94,  6, 91,  0, 87],\n",
       "        [ 7, 78,  4, 18, 49, 65, 85, 79],\n",
       "        [52, 39, 16, 96, 57, 56, 66, 27],\n",
       "        [74,  6, 48, 36, 50, 28,  0, 40],\n",
       "        [56, 96, 31, 50, 12, 92,  1, 66],\n",
       "        [10, 74, 12, 44, 53, 44, 22, 61],\n",
       "        [19, 38, 20, 55, 26, 18, 61, 99],\n",
       "        [69, 28, 56, 93, 18, 18,  0, 20],\n",
       "        [79, 89,  1, 38, 89, 59, 48, 57],\n",
       "        [88, 42, 87, 37, 51, 63, 17, 58],\n",
       "        [86, 66, 31, 17, 29, 97,  5, 62],\n",
       "        [83, 79, 94, 57, 36, 38, 27, 20],\n",
       "        [70, 44, 15, 20, 49, 59, 23, 87],\n",
       "        [51, 90,  1, 79, 33,  7, 47, 80],\n",
       "        [34, 31, 68, 40, 21, 38,  0, 33],\n",
       "        [99, 21, 31,  5, 22,  3, 87, 64],\n",
       "        [31,  8, 41,  6, 11,  9, 32,  8]]])>"
      ]
     },
     "execution_count": 52,
     "metadata": {},
     "output_type": "execute_result"
    }
   ],
   "source": [
    "#对于上面的需求，切片其实更加简单\n",
    "\n",
    "x[:2]\n",
    "\n",
    "#Python中的切片语法为 sequence[start:stop:step]， start默认为0，step默认为1\n",
    "#stop 是2，这意味着切片将停止于索引2之前（即索引0和1的元素会被选中，索引2不会）"
   ]
  },
  {
   "cell_type": "code",
   "execution_count": 55,
   "id": "ea03b2cf",
   "metadata": {},
   "outputs": [
    {
     "data": {
      "text/plain": [
       "<tf.Tensor: shape=(4, 6, 8), dtype=int32, numpy=\n",
       "array([[[15, 96,  9, 59, 72, 12, 48,  5],\n",
       "        [23, 43, 51, 77, 67, 90, 66, 48],\n",
       "        [ 2, 47, 10, 57, 77, 70, 92, 76],\n",
       "        [22, 52, 18, 55, 78, 15, 21, 59],\n",
       "        [39, 89, 92, 81, 62, 53, 54, 75],\n",
       "        [31, 86, 63, 17, 24, 80, 24, 35]],\n",
       "\n",
       "       [[25, 31, 89, 76, 88, 56, 25,  8],\n",
       "        [23, 91, 18, 48, 43, 24,  8, 12],\n",
       "        [ 7, 38, 49, 38, 60, 40, 95,  4],\n",
       "        [54, 23,  1,  6, 96, 63, 23, 51],\n",
       "        [78, 20, 78, 17, 94, 72, 56,  1],\n",
       "        [79, 89,  1, 38, 89, 59, 48, 57]],\n",
       "\n",
       "       [[20, 86, 21, 30, 23, 52, 84,  1],\n",
       "        [40, 79, 55, 27, 60, 86, 58, 78],\n",
       "        [76, 36, 57, 28, 13, 11, 61, 83],\n",
       "        [35, 62, 99, 15, 86, 82, 82, 49],\n",
       "        [ 3, 38, 48, 92, 78,  3,  3, 52],\n",
       "        [94, 93,  8, 47, 98, 66, 78,  8]],\n",
       "\n",
       "       [[82, 40, 13, 17, 78, 75,  3, 84],\n",
       "        [ 9, 18, 84, 34, 87, 80, 36, 16],\n",
       "        [31, 48,  1, 51, 47,  8, 61, 65],\n",
       "        [82, 99, 47, 92, 22, 36, 56, 91],\n",
       "        [32, 70,  4, 51, 91, 36,  6, 94],\n",
       "        [72, 48, 85, 59, 37, 76, 93, 72]]])>"
      ]
     },
     "execution_count": 55,
     "metadata": {},
     "output_type": "execute_result"
    }
   ],
   "source": [
    "#收集所有班级第1，4，9，12，13，27号同学的成绩\n",
    "tf.gather(x, [0,3,8,11,12,26], axis=1)"
   ]
  },
  {
   "cell_type": "code",
   "execution_count": 56,
   "id": "1c29470f",
   "metadata": {},
   "outputs": [
    {
     "data": {
      "text/plain": [
       "<tf.Tensor: shape=(4, 2), dtype=int32, numpy=\n",
       "array([[0, 1],\n",
       "       [2, 3],\n",
       "       [4, 5],\n",
       "       [6, 7]])>"
      ]
     },
     "execution_count": 56,
     "metadata": {},
     "output_type": "execute_result"
    }
   ],
   "source": [
    "#tf.gather非常适合索引号没有规则的场景\n",
    "a = tf.range(8)\n",
    "a = tf.reshape(a,[4,2])\n",
    "a"
   ]
  },
  {
   "cell_type": "code",
   "execution_count": 57,
   "id": "51ed7fc3",
   "metadata": {},
   "outputs": [
    {
     "data": {
      "text/plain": [
       "<tf.Tensor: shape=(4, 2), dtype=int32, numpy=\n",
       "array([[6, 7],\n",
       "       [2, 3],\n",
       "       [0, 1],\n",
       "       [4, 5]])>"
      ]
     },
     "execution_count": 57,
     "metadata": {},
     "output_type": "execute_result"
    }
   ],
   "source": [
    "tf.gather(a, [3,1,0,2], axis=0)"
   ]
  },
  {
   "cell_type": "markdown",
   "id": "49255eb4",
   "metadata": {},
   "source": [
    "如果希望抽查第[2,3]班级的第[3,4,6,27]号同学的科目成绩，则可以通过组合多个tf.gather实现。"
   ]
  },
  {
   "cell_type": "code",
   "execution_count": 58,
   "id": "605ba8e6",
   "metadata": {},
   "outputs": [
    {
     "data": {
      "text/plain": [
       "<tf.Tensor: shape=(2, 4, 8), dtype=int32, numpy=\n",
       "array([[[19,  4, 43, 15, 81, 99, 13, 83],\n",
       "        [66, 40, 78, 75, 86, 76, 99, 15],\n",
       "        [38,  9, 71, 22, 51,  7, 29, 35],\n",
       "        [53, 88, 67, 58, 98, 53, 48, 93]],\n",
       "\n",
       "       [[19, 27, 10, 80, 73, 68, 31, 42],\n",
       "        [ 0, 11, 14, 56, 19, 21, 10, 83],\n",
       "        [88,  1, 67, 32, 16, 94, 75, 67],\n",
       "        [24, 65, 48, 59, 99, 74, 89, 79]]])>"
      ]
     },
     "execution_count": 58,
     "metadata": {},
     "output_type": "execute_result"
    }
   ],
   "source": [
    "x = tf.random.uniform([4,35,8], maxval=100, dtype=tf.int32)\n",
    "students = tf.gather(x, [1,2], axis=0)\n",
    "tf.gather(students, [2,3,5,26], axis=1)"
   ]
  },
  {
   "cell_type": "markdown",
   "id": "c084a8aa",
   "metadata": {},
   "source": [
    "现在，抽查第2个班级的第2个同学的所有科目，第3个班级的第3个同学的所有科目，第4个班级的第4个同学的所有科目。"
   ]
  },
  {
   "cell_type": "code",
   "execution_count": 61,
   "id": "b1532c42",
   "metadata": {},
   "outputs": [
    {
     "data": {
      "text/plain": [
       "<tf.Tensor: shape=(3, 8), dtype=int32, numpy=\n",
       "array([[ 6, 41, 71, 27, 47, 89, 16,  9],\n",
       "       [19, 27, 10, 80, 73, 68, 31, 42],\n",
       "       [67, 83, 78, 97,  9, 78, 78, 68]])>"
      ]
     },
     "execution_count": 61,
     "metadata": {},
     "output_type": "execute_result"
    }
   ],
   "source": [
    "#方法一\n",
    "tf.stack([x[1,1], x[2,2], x[3,3]], axis=0)"
   ]
  },
  {
   "cell_type": "code",
   "execution_count": 64,
   "id": "a7cdd759",
   "metadata": {},
   "outputs": [
    {
     "data": {
      "text/plain": [
       "<tf.Tensor: shape=(3, 8), dtype=int32, numpy=\n",
       "array([[ 6, 41, 71, 27, 47, 89, 16,  9],\n",
       "       [19, 27, 10, 80, 73, 68, 31, 42],\n",
       "       [67, 83, 78, 97,  9, 78, 78, 68]])>"
      ]
     },
     "execution_count": 64,
     "metadata": {},
     "output_type": "execute_result"
    }
   ],
   "source": [
    "#方法二：tf.gather_nd\n",
    "tf.gather_nd(x, [[1,1],[2,2],[3,3]])\n",
    "\n",
    "#[..., [𝑖, 𝑗, 𝑘], ...]外层的括号长度为采样样本的个数，内层列表包含了每个采样点的索引坐标"
   ]
  },
  {
   "cell_type": "markdown",
   "id": "ff06c7bd",
   "metadata": {},
   "source": [
    "tf.boolean_mask"
   ]
  },
  {
   "cell_type": "code",
   "execution_count": 65,
   "id": "4abde824",
   "metadata": {},
   "outputs": [
    {
     "data": {
      "text/plain": [
       "<tf.Tensor: shape=(2, 35, 8), dtype=int32, numpy=\n",
       "array([[[76, 45, 50, 26, 41, 63,  5, 22],\n",
       "        [35, 21, 69, 76, 62, 41, 27, 99],\n",
       "        [58, 20, 53,  2, 83, 72, 95, 57],\n",
       "        [ 6, 70, 84, 77, 37, 72, 41, 83],\n",
       "        [42,  5,  2,  0, 38, 24, 94, 13],\n",
       "        [74, 40, 90, 46, 71, 74, 87, 19],\n",
       "        [38, 52, 14, 11, 92, 68, 62, 83],\n",
       "        [82, 88, 42, 85, 49,  4, 26, 82],\n",
       "        [15, 86, 95, 81, 67,  3, 91, 77],\n",
       "        [45, 57, 51, 48, 59, 62, 78, 90],\n",
       "        [82, 65, 12, 97, 15, 49, 17, 29],\n",
       "        [35, 29,  6, 85, 24,  7, 83, 13],\n",
       "        [27, 33, 53, 11, 15, 74, 77, 62],\n",
       "        [88,  6, 78, 58, 64, 30, 77, 87],\n",
       "        [37, 69, 62, 79, 70, 10, 75, 66],\n",
       "        [68, 74, 77,  7, 23,  0, 66,  2],\n",
       "        [46, 67, 82, 77, 26, 18,  5, 63],\n",
       "        [ 2, 23, 98, 83, 83, 20, 32, 66],\n",
       "        [72, 91, 84,  7, 34, 89, 68, 90],\n",
       "        [33, 94, 35, 54, 31, 43, 82, 67],\n",
       "        [37, 68, 70, 71, 44, 93, 62, 82],\n",
       "        [ 1,  4, 50, 56, 65, 40, 74, 91],\n",
       "        [20, 53,  5, 62, 13,  1, 85, 43],\n",
       "        [22, 72, 97, 25, 53, 13, 33, 66],\n",
       "        [ 7,  8, 95, 49, 80, 17,  5,  7],\n",
       "        [24, 14, 28, 16,  9, 59, 97, 85],\n",
       "        [43, 50,  3, 97, 78, 58, 85, 87],\n",
       "        [58,  0, 16, 10, 65, 90, 89, 97],\n",
       "        [96,  5, 77, 39, 26, 60, 92,  9],\n",
       "        [69, 43,  6, 26, 34, 70, 53, 77],\n",
       "        [90, 30, 95, 74, 72,  6, 98, 49],\n",
       "        [49, 68, 52, 76, 62, 89, 77, 92],\n",
       "        [61, 55, 13,  7, 60,  9, 24, 66],\n",
       "        [76, 90, 90, 21, 28,  0, 46, 25],\n",
       "        [31, 34,  0, 46, 84, 43, 48, 64]],\n",
       "\n",
       "       [[31, 65, 60, 86, 55, 81, 37, 59],\n",
       "        [68, 88, 31, 65, 90, 62, 29, 64],\n",
       "        [50, 49, 63, 71, 20, 34, 87, 34],\n",
       "        [67, 83, 78, 97,  9, 78, 78, 68],\n",
       "        [82, 55, 81, 55, 93, 31, 32, 90],\n",
       "        [47, 70,  1,  7, 90, 28, 78, 70],\n",
       "        [51, 70, 31, 85, 82, 13, 20, 94],\n",
       "        [75, 72,  6, 52,  9, 74, 91, 99],\n",
       "        [80,  6, 48, 34, 12, 72, 93, 47],\n",
       "        [19,  4, 55, 83, 99, 89, 20, 92],\n",
       "        [77, 82, 48, 97,  7,  0, 61, 50],\n",
       "        [40, 33, 26, 53,  7,  0, 86, 98],\n",
       "        [17, 48, 32, 33,  1, 79, 55, 68],\n",
       "        [ 9,  0, 27, 41, 28, 22,  3, 26],\n",
       "        [29, 14, 79, 69, 26, 75, 54, 39],\n",
       "        [69, 72, 38, 21, 68, 44, 89, 42],\n",
       "        [31, 53, 11, 70, 12, 26, 32, 83],\n",
       "        [96, 59,  2, 69, 56, 54, 79, 37],\n",
       "        [49, 22, 96, 81, 90, 26, 76, 98],\n",
       "        [80, 54, 21, 29, 84, 93, 25, 83],\n",
       "        [25, 62, 17,  4, 27, 62, 28, 69],\n",
       "        [45, 98, 73, 84, 91, 23, 82, 38],\n",
       "        [28, 23, 39, 72, 88,  0, 17, 12],\n",
       "        [21, 11, 15, 15, 47, 59, 48, 54],\n",
       "        [ 0, 68, 47, 68, 21, 28, 94, 20],\n",
       "        [67, 31, 58, 39, 56, 15, 86, 90],\n",
       "        [59, 43, 41, 20, 23, 12, 61, 72],\n",
       "        [58, 19, 15, 95, 30, 36, 11, 32],\n",
       "        [21, 84, 23, 32, 14, 64, 46, 33],\n",
       "        [86, 17, 95, 70, 82,  1, 73,  5],\n",
       "        [ 2, 25, 50, 43, 53, 60, 29, 42],\n",
       "        [68, 58, 17, 53, 84, 18, 55, 55],\n",
       "        [13, 84, 94, 75, 78, 27, 13, 95],\n",
       "        [36, 48, 59,  0, 75, 69,  7, 98],\n",
       "        [26, 93, 68, 63,  2, 17,  6, 42]]])>"
      ]
     },
     "execution_count": 65,
     "metadata": {},
     "output_type": "execute_result"
    }
   ],
   "source": [
    "#采样第1和第4个班级的数据\n",
    "tf.boolean_mask(x, mask=[True, False, False, True], axis=0)"
   ]
  },
  {
   "cell_type": "markdown",
   "id": "3390828e",
   "metadata": {},
   "source": [
    "tf.boolean_mask的用法其实与tf.gather非常类似，只不过一个通过掩码方式采样，一个直接给出索引号采样。"
   ]
  },
  {
   "cell_type": "code",
   "execution_count": 71,
   "id": "ef270916",
   "metadata": {},
   "outputs": [],
   "source": [
    "x = tf.random.uniform([2,3,8], maxval=100, dtype=tf.int32)"
   ]
  },
  {
   "cell_type": "code",
   "execution_count": 74,
   "id": "3490bb91",
   "metadata": {},
   "outputs": [
    {
     "data": {
      "text/plain": [
       "<tf.Tensor: shape=(4, 8), dtype=int32, numpy=\n",
       "array([[17, 40, 77, 25, 75,  0, 56, 66],\n",
       "       [52, 87, 20, 92, 21, 82,  2, 79],\n",
       "       [74,  2, 27, 33,  5, 89, 43, 97],\n",
       "       [87, 75, 17, 80, 76, 80, 86,  3]])>"
      ]
     },
     "execution_count": 74,
     "metadata": {},
     "output_type": "execute_result"
    }
   ],
   "source": [
    "#效果等同于tf.gather_nd(x, [[0,0],[0,1],[1,1],[1,2]])\n",
    "tf.boolean_mask(x, [[True,True,False],[False,True,True]])"
   ]
  },
  {
   "cell_type": "markdown",
   "id": "b5480645",
   "metadata": {},
   "source": [
    "可见tf.boolean_mask既可以实现了tf.gather方式的一维掩码采样，又可以实现tf.gather_nd方式的多维掩码采样。"
   ]
  },
  {
   "cell_type": "markdown",
   "id": "3fad633d",
   "metadata": {},
   "source": [
    "tf.where(cond, a, b)根据条件选取参数，在每次选取参数的时候（对张量中每个参数进行选择时），如果对应的条件为真，返回a，否则返回b。"
   ]
  },
  {
   "cell_type": "code",
   "execution_count": 76,
   "id": "4dcc243c",
   "metadata": {},
   "outputs": [
    {
     "data": {
      "text/plain": [
       "<tf.Tensor: shape=(3, 3), dtype=float32, numpy=\n",
       "array([[1., 0., 0.],\n",
       "       [0., 1., 0.],\n",
       "       [1., 1., 0.]], dtype=float32)>"
      ]
     },
     "execution_count": 76,
     "metadata": {},
     "output_type": "execute_result"
    }
   ],
   "source": [
    "a = tf.ones([3,3])\n",
    "b = tf.zeros([3,3])\n",
    "#构造条件\n",
    "cond = tf.constant([[True,False,False], [False,True,False], [True, True, False]])\n",
    "tf.where(cond, a, b)"
   ]
  },
  {
   "cell_type": "code",
   "execution_count": 77,
   "id": "1152aee6",
   "metadata": {},
   "outputs": [
    {
     "data": {
      "text/plain": [
       "(<tf.Tensor: shape=(3, 3), dtype=bool, numpy=\n",
       " array([[ True, False, False],\n",
       "        [False,  True, False],\n",
       "        [ True,  True, False]])>,\n",
       " <tf.Tensor: shape=(4, 2), dtype=int64, numpy=\n",
       " array([[0, 0],\n",
       "        [1, 1],\n",
       "        [2, 0],\n",
       "        [2, 1]], dtype=int64)>)"
      ]
     },
     "execution_count": 77,
     "metadata": {},
     "output_type": "execute_result"
    }
   ],
   "source": [
    "#当不指定参数时，即a=b=None，tf.where会返回cond张量中所有True的元素的索引坐标。\n",
    "cond, tf.where(cond)"
   ]
  },
  {
   "cell_type": "code",
   "execution_count": 78,
   "id": "df439209",
   "metadata": {},
   "outputs": [
    {
     "data": {
      "text/plain": [
       "<tf.Tensor: shape=(3, 3), dtype=float32, numpy=\n",
       "array([[-1.3596482 ,  0.70378596,  0.8418375 ],\n",
       "       [ 1.6082811 , -0.58256584,  0.72096765],\n",
       "       [-0.5316984 ,  0.38118717, -0.3620641 ]], dtype=float32)>"
      ]
     },
     "execution_count": 78,
     "metadata": {},
     "output_type": "execute_result"
    }
   ],
   "source": [
    "#Example：提取张量中所有正数的数据和索引。\n",
    "x = tf.random.normal([3,3])\n",
    "x"
   ]
  },
  {
   "cell_type": "code",
   "execution_count": 82,
   "id": "1b141757",
   "metadata": {},
   "outputs": [
    {
     "data": {
      "text/plain": [
       "<tf.Tensor: shape=(3, 3), dtype=bool, numpy=\n",
       "array([[False,  True,  True],\n",
       "       [ True, False,  True],\n",
       "       [False,  True, False]])>"
      ]
     },
     "execution_count": 82,
     "metadata": {},
     "output_type": "execute_result"
    }
   ],
   "source": [
    "mask = x > 0 #比较操作，等同于tf.math.greater()\n",
    "mask"
   ]
  },
  {
   "cell_type": "code",
   "execution_count": 84,
   "id": "f3a25f7d",
   "metadata": {},
   "outputs": [
    {
     "data": {
      "text/plain": [
       "<tf.Tensor: shape=(5, 2), dtype=int64, numpy=\n",
       "array([[0, 1],\n",
       "       [0, 2],\n",
       "       [1, 0],\n",
       "       [1, 2],\n",
       "       [2, 1]], dtype=int64)>"
      ]
     },
     "execution_count": 84,
     "metadata": {},
     "output_type": "execute_result"
    }
   ],
   "source": [
    "indices = tf.where(mask) #拿到索引\n",
    "indices"
   ]
  },
  {
   "cell_type": "code",
   "execution_count": 85,
   "id": "9a240b59",
   "metadata": {},
   "outputs": [
    {
     "data": {
      "text/plain": [
       "<tf.Tensor: shape=(5,), dtype=float32, numpy=\n",
       "array([0.70378596, 0.8418375 , 1.6082811 , 0.72096765, 0.38118717],\n",
       "      dtype=float32)>"
      ]
     },
     "execution_count": 85,
     "metadata": {},
     "output_type": "execute_result"
    }
   ],
   "source": [
    "tf.gather_nd(x, indices) #根据索引恢复出符号为正的元素"
   ]
  },
  {
   "cell_type": "code",
   "execution_count": 86,
   "id": "7dd78f39",
   "metadata": {},
   "outputs": [
    {
     "data": {
      "text/plain": [
       "<tf.Tensor: shape=(5,), dtype=float32, numpy=\n",
       "array([0.70378596, 0.8418375 , 1.6082811 , 0.72096765, 0.38118717],\n",
       "      dtype=float32)>"
      ]
     },
     "execution_count": 86,
     "metadata": {},
     "output_type": "execute_result"
    }
   ],
   "source": [
    "#还可以通过tf.boolean_mask()来提取数据\n",
    "tf.boolean_mask(x, mask)"
   ]
  },
  {
   "cell_type": "markdown",
   "id": "6525f718",
   "metadata": {},
   "source": [
    "scatter_nd"
   ]
  },
  {
   "cell_type": "markdown",
   "id": "a24fc23d",
   "metadata": {},
   "source": [
    "tf.scatter_nd(indices, updates, shape)函数可以高效地刷新（散布）张量的部分数据，但是这个函数只能在全0的白板张量上面执行刷新操作，因此可能需要结合其它操作来实现现有张量的数据刷新功能。"
   ]
  },
  {
   "attachments": {
    "image.png": {
     "image/png": "[encoded data removed]"
    }
   },
   "cell_type": "markdown",
   "id": "4d454806",
   "metadata": {},
   "source": [
    "![image.png](attachment:image.png)"
   ]
  },
  {
   "cell_type": "code",
   "execution_count": 88,
   "id": "1f133b75",
   "metadata": {},
   "outputs": [
    {
     "data": {
      "text/plain": [
       "<tf.Tensor: shape=(8,), dtype=float32, numpy=array([0. , 1.1, 0. , 3.3, 4.4, 0. , 0. , 7.7], dtype=float32)>"
      ]
     },
     "execution_count": 88,
     "metadata": {},
     "output_type": "execute_result"
    }
   ],
   "source": [
    "indices = tf.constant([[4],[3],[1],[7]])\n",
    "updates = tf.constant([4.4, 3.3, 1.1, 7.7])\n",
    "tf.scatter_nd(indices, updates, [8]) #在长度为8的全0向量上根据indices写入updates数据"
   ]
  },
  {
   "cell_type": "markdown",
   "id": "cdd15f78",
   "metadata": {},
   "source": [
    "三位张量散布操作"
   ]
  },
  {
   "attachments": {
    "image.png": {
     "image/png": "[encoded data removed]"
    }
   },
   "cell_type": "markdown",
   "id": "6f660588",
   "metadata": {},
   "source": [
    "![image.png](attachment:image.png)"
   ]
  },
  {
   "cell_type": "markdown",
   "id": "c55ad0e2",
   "metadata": {},
   "source": [
    "考虑3维张量的刷新例子，如上图所示，白板张量的shape为[4,4,4]，共有4个通道的特征图，每个通道大小为4×4，现有2个通道的新数据updates:[2,4,4]，需要写入索引为[1,3]的通道上。"
   ]
  },
  {
   "cell_type": "code",
   "execution_count": 89,
   "id": "325291eb",
   "metadata": {},
   "outputs": [
    {
     "data": {
      "text/plain": [
       "<tf.Tensor: shape=(4, 4, 4), dtype=int32, numpy=\n",
       "array([[[0, 0, 0, 0],\n",
       "        [0, 0, 0, 0],\n",
       "        [0, 0, 0, 0],\n",
       "        [0, 0, 0, 0]],\n",
       "\n",
       "       [[5, 5, 5, 5],\n",
       "        [6, 6, 6, 6],\n",
       "        [7, 7, 7, 7],\n",
       "        [8, 8, 8, 8]],\n",
       "\n",
       "       [[0, 0, 0, 0],\n",
       "        [0, 0, 0, 0],\n",
       "        [0, 0, 0, 0],\n",
       "        [0, 0, 0, 0]],\n",
       "\n",
       "       [[1, 1, 1, 1],\n",
       "        [2, 2, 2, 2],\n",
       "        [3, 3, 3, 3],\n",
       "        [4, 4, 4, 4]]])>"
      ]
     },
     "execution_count": 89,
     "metadata": {},
     "output_type": "execute_result"
    }
   ],
   "source": [
    "#构造写入位置\n",
    "indices = tf.constant([[1],[3]])\n",
    "#构造写入数据，即2 个矩阵\n",
    "updates = tf.constant(\n",
    "    [[[5,5,5,5],[6,6,6,6],[7,7,7,7],[8,8,8,8]],\n",
    "     [[1,1,1,1],[2,2,2,2],[3,3,3,3],[4,4,4,4]]\n",
    "    ])\n",
    "#在shape为[4,4,4]白板上根据indices写入updates\n",
    "tf.scatter_nd(indices, updates, [4,4,4])"
   ]
  },
  {
   "cell_type": "markdown",
   "id": "0dcf59c0",
   "metadata": {},
   "source": [
    "meshgrid"
   ]
  },
  {
   "attachments": {},
   "cell_type": "markdown",
   "id": "e714a496",
   "metadata": {},
   "source": [
    "tf.meshgrid函数可以方便地生成二维网格的采样点坐标，方便可视化等应用场合。考虑2个自变量x和y的Sinc函数表达式为:"
   ]
  },
  {
   "attachments": {
    "image.png": {
     "image/png": "[encoded data removed]"
    }
   },
   "cell_type": "markdown",
   "id": "707b175f",
   "metadata": {},
   "source": [
    "![image.png](attachment:image.png)"
   ]
  },
  {
   "cell_type": "code",
   "execution_count": null,
   "id": "2db0f361",
   "metadata": {},
   "outputs": [],
   "source": []
  },
  {
   "cell_type": "code",
   "execution_count": 91,
   "id": "829d1aa9",
   "metadata": {},
   "outputs": [],
   "source": [
    "import numpy as np\n",
    "\n",
    "def sinc_2d(x, y):\n",
    "    return np.sinc(x) * np.sinc(y)\n",
    "\n",
    "points = [] #空列表用以保存采样点\n",
    "for x in range(-8, 8, 100):\n",
    "    for y in range(-8, 8, 100):\n",
    "        z = sinc_2d(x, y)\n",
    "        points.append([x,y,z]) #由于加入了z维度，此处将存储一万个点的坐标"
   ]
  },
  {
   "cell_type": "markdown",
   "id": "c6488637",
   "metadata": {},
   "source": [
    "上述采样方式不够效率，考虑使用tf.meshgrid函数实现。"
   ]
  },
  {
   "cell_type": "code",
   "execution_count": 104,
   "id": "0348e1a9",
   "metadata": {},
   "outputs": [
    {
     "data": {
      "text/plain": [
       "(TensorShape([100]),\n",
       " TensorShape([100]),\n",
       " TensorShape([100, 100]),\n",
       " TensorShape([100, 100]))"
      ]
     },
     "execution_count": 104,
     "metadata": {},
     "output_type": "execute_result"
    }
   ],
   "source": [
    "x = tf.linspace(-8, 8, 100) #tf.linspace用于在指定范围内生成一系列等间距分布的数值。\n",
    "y = tf.linspace(-8, 8, 100)\n",
    "\n",
    "x_shape, y_shape = x.shape, y.shape\n",
    "\n",
    "x, y = tf.meshgrid(x, y) #生成网格点，并内部拆分后返回\n",
    "\n",
    "x_shape, y_shape, x.shape, y.shape"
   ]
  },
  {
   "cell_type": "code",
   "execution_count": 108,
   "id": "4a53d2e4",
   "metadata": {},
   "outputs": [],
   "source": [
    "#Sinc函数\n",
    "z = tf.sqrt(x ** 2 + y ** 2)\n",
    "z = tf.sin(z)/z"
   ]
  },
  {
   "cell_type": "code",
   "execution_count": 112,
   "id": "97821156",
   "metadata": {},
   "outputs": [
    {
     "data": {
      "image/png": "[encoded data removed]",
      "text/plain": [
       "<Figure size 640x480 with 1 Axes>"
      ]
     },
     "metadata": {},
     "output_type": "display_data"
    }
   ],
   "source": [
    "import matplotlib\n",
    "from matplotlib import pyplot as plt\n",
    "\n",
    "#导入3D坐标轴支持\n",
    "from mpl_toolkits.mplot3d import Axes3D\n",
    "\n",
    "fig = plt.figure()\n",
    "ax = Axes3D(fig, auto_add_to_figure=False) #Axes3D(fig) adding itself to the figure is deprecated since 3.4.\n",
    "fig.add_axes(ax)  # 手动将ax添加到fig中\n",
    "\n",
    "ax.contour3D(x.numpy(), y.numpy(), z.numpy(), 50)\n",
    "#这里调用.numpy()方法来确保它们是NumPy数组。50表示要绘制的等高线的数量。\n",
    "\n",
    "plt.show()"
   ]
  },
  {
   "cell_type": "markdown",
   "id": "7baec4f4",
   "metadata": {},
   "source": [
    "为什么要先import matplotlib再from matplotlib import pyplot as plt?\n",
    "\n",
    "通过import matplotlib，你可以控制 matplotlib 使用哪个后端（backend）。后端决定了图形如何显示或保存。例如，如果你在没有显示界面的环境（如服务器）上运行代码，你可能需要设置一个非交互式后端：\n",
    "\n",
    "matplotlib.use('Agg')  # 使用非交互式后端\n",
    "\n",
    "这行代码必须在导入 pyplot 之前执行，这就是为什么先导入 matplotlib 的原因之一。"
   ]
  },
  {
   "cell_type": "markdown",
   "id": "3241e423",
   "metadata": {},
   "source": [
    "# 经典数据集加载"
   ]
  },
  {
   "cell_type": "code",
   "execution_count": 113,
   "id": "48912694",
   "metadata": {},
   "outputs": [],
   "source": [
    "#自动加载MNIST数据集\n",
    "import tensorflow as tf\n",
    "from tensorflow import keras\n",
    "from tensorflow.keras import datasets"
   ]
  },
  {
   "cell_type": "code",
   "execution_count": 114,
   "id": "6d640df3",
   "metadata": {},
   "outputs": [
    {
     "name": "stdout",
     "output_type": "stream",
     "text": [
      "Downloading data from https://storage.googleapis.com/tensorflow/tf-keras-datasets/mnist.npz\n",
      "11490434/11490434 [==============================] - 3s 0us/step\n"
     ]
    }
   ],
   "source": [
    "(x, y), (x_test, y_test) = datasets.mnist.load_data()"
   ]
  },
  {
   "cell_type": "markdown",
   "id": "9c3663f9",
   "metadata": {},
   "source": [
    "通过load_data()函数会返回相应格式的数据，对于图片数据集MNIST、CIFAR10等，会返回2个tuple，第一个tuple保存了用于训练的数据x和y训练集对象；第2 个tuple 则保存了用于测试的数据x_test和y_test 测试集对象，所有的数据都用Numpy 数组容器保存。"
   ]
  },
  {
   "cell_type": "code",
   "execution_count": 116,
   "id": "e918f650",
   "metadata": {},
   "outputs": [
    {
     "name": "stdout",
     "output_type": "stream",
     "text": [
      "x: (60000, 28, 28) y: (60000,) x_test: (10000, 28, 28) y_test: (10000,)\n"
     ]
    }
   ],
   "source": [
    "print('x:', x.shape, 'y:', y.shape,'x_test:', x_test.shape, 'y_test:', y_test.shape)"
   ]
  },
  {
   "cell_type": "markdown",
   "id": "7ce5c57c",
   "metadata": {},
   "source": [
    "数据加载进入内存后，需要转换成Dataset对象，才能利用TensorFlow 提供的各种便捷功能。通过Dataset.from_tensor_slices可以将训练部分的数据图片x 和标签y 都转换成Dataset对象。"
   ]
  },
  {
   "cell_type": "code",
   "execution_count": 117,
   "id": "fcc5eee2",
   "metadata": {},
   "outputs": [],
   "source": [
    "#构建Dataset对象\n",
    "train_db = tf.data.Dataset.from_tensor_slices((x, y))"
   ]
  },
  {
   "cell_type": "markdown",
   "id": "0a14d7be",
   "metadata": {},
   "source": [
    "随机打散"
   ]
  },
  {
   "cell_type": "markdown",
   "id": "4037031b",
   "metadata": {},
   "source": [
    "通过Dataset.shuffle(buffer_size)工具可以设置Dataset对象随机打散数据之间的顺序，防止每次训练时数据按固定顺序产生，从而使得模型尝试“记忆”住标签信息。buffer_size参数指定缓冲池的大小，一般设置为一个较大的常数即可。"
   ]
  },
  {
   "cell_type": "code",
   "execution_count": 119,
   "id": "02de41f8",
   "metadata": {},
   "outputs": [],
   "source": [
    "train_db = train_db.shuffle(10000) #随机打散样本，不会打乱样本与标签的映射。"
   ]
  },
  {
   "cell_type": "markdown",
   "id": "dfa27f72",
   "metadata": {},
   "source": [
    "批训练"
   ]
  },
  {
   "cell_type": "markdown",
   "id": "8d430980",
   "metadata": {},
   "source": [
    "为了利用显卡的并行计算能力，一般在网络的计算过程中会同时计算多个样本，我们把这种训练方式叫做批训练，其中一个批中样本的数量叫做Batch Size。为了一次能够从Dataset中产生Batch Size数量的样本，需要设置Dataset为批训练方式。"
   ]
  },
  {
   "cell_type": "code",
   "execution_count": 120,
   "id": "305e0022",
   "metadata": {},
   "outputs": [],
   "source": [
    "train_db = train_db.batch(128)"
   ]
  },
  {
   "cell_type": "markdown",
   "id": "eedc66b2",
   "metadata": {},
   "source": [
    "Batch Size一般根据用户的GPU显存资源来设置，当显存不足时，可以适量减少Batch Size来减少算法的显存使用量。"
   ]
  },
  {
   "cell_type": "markdown",
   "id": "d8029372",
   "metadata": {},
   "source": [
    "预处理"
   ]
  },
  {
   "cell_type": "markdown",
   "id": "b2ec5008",
   "metadata": {},
   "source": [
    "从 keras.datasets中加载的数据集的格式大部分情况都不能直接满足模型的输入要求，需要进行预处理。Dataset对象通过提供map(func)工具函数，可以非常方便地调用用户自定义的预处理逻辑（即func）。"
   ]
  },
  {
   "cell_type": "code",
   "execution_count": 124,
   "id": "6462b9b6",
   "metadata": {},
   "outputs": [],
   "source": [
    "#预处理函数\n",
    "def preprocess(x, y):\n",
    "    #每一对(x, y)样本的维度均为[b,28,28],[b]\n",
    "    #将输入转换为float32类型，因为原始数据可能是uint8类型（0-255），随后将灰度值归一化\n",
    "    x = tf.cast(x, dtype=tf.float32)/255.\n",
    "    #将二维图像转换为一维，这样可以将图像数据作为全连接层的输入。-1表示批次大小可以自动推断。\n",
    "    x = tf.reshape(x, [-1, 28*28])\n",
    "    #转换成整形张量，通常标签是类别索引，需要是整数类型以便进行后续的独热编码。\n",
    "    y = tf.cast(y, dtype=tf.int32)\n",
    "    #One-Hot Encoding，也可以在计算误差时进行One-Hot编码。\n",
    "    y = tf.one_hot(y, depth=10)\n",
    "    \n",
    "    return x, y\n",
    "\n",
    "\n",
    "#向map函数传入预处理函数的函数名，map方法会将preprocess函数应用到train_db中的每一个批次\n",
    "train_db = train_db.map(preprocess)"
   ]
  },
  {
   "cell_type": "markdown",
   "id": "10adf4a0",
   "metadata": {},
   "source": [
    "对于输入值进行归一化：\n",
    "1. 有助于梯度下降算法更平稳、更快速地收敛。\n",
    "2. 一定程度避免梯度消失或梯度爆炸。\n",
    "3. 归一化后的数据更接近一些激活函数的线性部分，避免了过多的饱和现象（输出接近0或1），从而保留了更多的信息。\n",
    "4. 避免特征主导，提高泛化能力。"
   ]
  },
  {
   "cell_type": "markdown",
   "id": "a82674a5",
   "metadata": {},
   "source": [
    "独热编码：\n",
    "\n",
    "独热编码用于将类别数据转换为数值形式，特别是那些没有内在顺序的分类数据（如颜色、品牌等）。这种编码方式能够避免算法误认为类别之间存在数值上的关系。"
   ]
  },
  {
   "cell_type": "markdown",
   "id": "a5d2bdb4",
   "metadata": {},
   "source": [
    "循环训练"
   ]
  },
  {
   "cell_type": "code",
   "execution_count": null,
   "id": "0c413246",
   "metadata": {},
   "outputs": [],
   "source": [
    "#训练20个Epoch\n",
    "for epoch in range(20):\n",
    "    for step, (x,y) in enumerate(train_db): #完成一个Batch的数据训练，叫做一个Step\n",
    "        #training..."
   ]
  },
  {
   "cell_type": "markdown",
   "id": "ad52d6d6",
   "metadata": {},
   "source": [
    "使用 enumerate 时，你可以访问当前的步骤或索引，这在需要对迭代过程进行监控或需要基于索引执行某些操作（如日志记录、状态检查）时非常有用。\n",
    "\n",
    "不使用 enumerate 的直接迭代：\n",
    "\n",
    "for x, y in train_db:\n",
    "\n",
    "这种方法直接迭代数据集对象，它只关心数据本身而不是迭代次数或位置。代码更简洁，如果不需要步骤信息，这是个好选择。"
   ]
  },
  {
   "cell_type": "markdown",
   "id": "6ce0772d",
   "metadata": {},
   "source": [
    "此外，还可以先将数据集直接重复20编（在for循环外），使得数据集对象内部遍历多次才会退出：\n",
    "\n",
    "train_db = train_db.repeat(20)"
   ]
  },
  {
   "cell_type": "code",
   "execution_count": null,
   "id": "325782ab",
   "metadata": {},
   "outputs": [],
   "source": [
    "#初始化数据流水线时执行的操作\n",
    "train_db = train_db.repeat(5)\n",
    "train_db = train_db.shuffle(buffer_size=100)\n",
    "train_db = train_db.batch(32)\n",
    "\n",
    "......\n",
    "\n",
    "#训练循环\n",
    "for epoch in range(5):\n",
    "    for step, (x, y) in enumerate(train_db):\n",
    "        # 训练步骤，使用从定义好的流水线中获取的数据"
   ]
  },
  {
   "cell_type": "markdown",
   "id": "77f5603f",
   "metadata": {},
   "source": [
    "初始化部分的代码只运行一次，用于设定数据处理的流程。\n",
    "\n",
    "在每个for epoch in range(5):循环中，for step, (x, y) in enumerate(train_db):会从你已经定义好的、包括repeat和shuffle逻辑的数据流水线中拉取数据。每当你开始一个新的epoch，shuffle操作会根据之前的设置自动应用一次，而无需你手动在循环中再次调用。"
   ]
  },
  {
   "cell_type": "code",
   "execution_count": null,
   "id": "6e651e9f",
   "metadata": {},
   "outputs": [],
   "source": []
  },
  {
   "cell_type": "code",
   "execution_count": null,
   "id": "48839152",
   "metadata": {},
   "outputs": [],
   "source": []
  },
  {
   "cell_type": "code",
   "execution_count": null,
   "id": "8513dafa",
   "metadata": {},
   "outputs": [],
   "source": []
  },
  {
   "cell_type": "code",
   "execution_count": null,
   "id": "6551731b",
   "metadata": {},
   "outputs": [],
   "source": []
  },
  {
   "cell_type": "code",
   "execution_count": null,
   "id": "5e69155d",
   "metadata": {},
   "outputs": [],
   "source": []
  },
  {
   "cell_type": "code",
   "execution_count": null,
   "id": "b28b1611",
   "metadata": {},
   "outputs": [],
   "source": []
  },
  {
   "cell_type": "code",
   "execution_count": null,
   "id": "04eeb7b4",
   "metadata": {},
   "outputs": [],
   "source": []
  },
  {
   "cell_type": "code",
   "execution_count": null,
   "id": "045c2207",
   "metadata": {},
   "outputs": [],
   "source": []
  },
  {
   "cell_type": "code",
   "execution_count": null,
   "id": "afc915ae",
   "metadata": {},
   "outputs": [],
   "source": []
  },
  {
   "cell_type": "code",
   "execution_count": null,
   "id": "6e724092",
   "metadata": {},
   "outputs": [],
   "source": []
  },
  {
   "cell_type": "code",
   "execution_count": null,
   "id": "0255d271",
   "metadata": {},
   "outputs": [],
   "source": []
  },
  {
   "cell_type": "code",
   "execution_count": null,
   "id": "92266b60",
   "metadata": {},
   "outputs": [],
   "source": []
  }
 ],
 "metadata": {
  "kernelspec": {
   "display_name": "Python 3 (ipykernel)",
   "language": "python",
   "name": "python3"
  },
  "language_info": {
   "codemirror_mode": {
    "name": "ipython",
    "version": 3
   },
   "file_extension": ".py",
   "mimetype": "text/x-python",
   "name": "python",
   "nbconvert_exporter": "python",
   "pygments_lexer": "ipython3",
   "version": "3.7.1"
  }
 },
 "nbformat": 4,
 "nbformat_minor": 5
}
