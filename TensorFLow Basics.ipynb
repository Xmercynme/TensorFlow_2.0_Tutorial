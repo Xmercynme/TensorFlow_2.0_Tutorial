{
 "cells": [
  {
   "cell_type": "markdown",
   "id": "43948d6c",
   "metadata": {},
   "source": [
    "# 数据类型"
   ]
  },
  {
   "cell_type": "code",
   "execution_count": null,
   "id": "f9a28573",
   "metadata": {},
   "outputs": [],
   "source": [
    "import sys\n",
    "print(sys.version)"
   ]
  },
  {
   "cell_type": "code",
   "execution_count": null,
   "id": "510fe22d",
   "metadata": {},
   "outputs": [],
   "source": [
    "import tensorflow as tf\n",
    "print(tf.__version__)"
   ]
  },
  {
   "cell_type": "code",
   "execution_count": null,
   "id": "583ffa64",
   "metadata": {},
   "outputs": [],
   "source": []
  },
  {
   "cell_type": "markdown",
   "id": "9bf94e26",
   "metadata": {},
   "source": [
    "Create a scalar"
   ]
  },
  {
   "cell_type": "markdown",
   "id": "4007b2d4",
   "metadata": {},
   "source": [
    "TensorFlow提供的函数功能，只接受通过TensorFlow规定方式创建的张量。"
   ]
  },
  {
   "cell_type": "code",
   "execution_count": null,
   "id": "5342db38",
   "metadata": {},
   "outputs": [],
   "source": [
    "#Python Style\n",
    "a = 1.2\n",
    "#TF Style\n",
    "b = tf.constant(1.2)"
   ]
  },
  {
   "cell_type": "code",
   "execution_count": null,
   "id": "eb333747",
   "metadata": {},
   "outputs": [],
   "source": [
    "type(a), type(b), tf.is_tensor(b)"
   ]
  },
  {
   "cell_type": "markdown",
   "id": "4eff5c56",
   "metadata": {},
   "source": [
    "通过 print(x)或x 可以打印出张量x 的相关信息。"
   ]
  },
  {
   "cell_type": "code",
   "execution_count": null,
   "id": "852dc059",
   "metadata": {},
   "outputs": [],
   "source": [
    "b"
   ]
  },
  {
   "cell_type": "code",
   "execution_count": null,
   "id": "4d15862e",
   "metadata": {},
   "outputs": [],
   "source": [
    "print(b)"
   ]
  },
  {
   "cell_type": "markdown",
   "id": "9e947c92",
   "metadata": {},
   "source": [
    "张量numpy()方法可以返回Numpy.array 类型的数据，方便导出数据到系统的其他模块."
   ]
  },
  {
   "cell_type": "code",
   "execution_count": null,
   "id": "47a10548",
   "metadata": {},
   "outputs": [],
   "source": [
    "b.numpy() #将TF 张量的数据导出为numpy数组格式\n",
    "#至此，我们虽没有导入Numpy，但是TensorFlow本身包含了NumPy的支持并提供了类似的API。"
   ]
  },
  {
   "cell_type": "code",
   "execution_count": null,
   "id": "d09f7170",
   "metadata": {},
   "outputs": [],
   "source": [
    "#与标量不同，向量的定义须通过List容器传给tf.constant()函数。\n",
    "c = tf.constant([1,2.,3.3])\n",
    "#创建一个元素的向量\n",
    "d = tf.constant([4.4])"
   ]
  },
  {
   "cell_type": "code",
   "execution_count": null,
   "id": "f3083e92",
   "metadata": {},
   "outputs": [],
   "source": [
    "c"
   ]
  },
  {
   "cell_type": "code",
   "execution_count": null,
   "id": "8a7474a2",
   "metadata": {},
   "outputs": [],
   "source": [
    "c.shape"
   ]
  },
  {
   "cell_type": "code",
   "execution_count": null,
   "id": "708bbb0a",
   "metadata": {},
   "outputs": [],
   "source": [
    "c.numpy()"
   ]
  },
  {
   "cell_type": "markdown",
   "id": "d69f5c58",
   "metadata": {},
   "source": [
    "在TensorFlow中，创建常量张量时，如果不指定数据类型，TensorFlow会根据输入的数值自动推断数据类型。"
   ]
  },
  {
   "cell_type": "code",
   "execution_count": null,
   "id": "0169943a",
   "metadata": {},
   "outputs": [],
   "source": [
    "c = tf.constant([1,2.,3.3])\n",
    "\n",
    "#这里，数组包含整数1和浮点数2.与3.3。\n",
    "#TensorFlow会自动将1转换为浮点数，因为数组中存在其他浮点数。\n",
    "#最终的x的类型可能是tf.float32或tf.float64。\n",
    "#具体取决于TensorFlow的默认配置（通常是tf.float32）\n",
    "#“2.”后面的浮点用于根据需要来明确数据类型"
   ]
  },
  {
   "cell_type": "code",
   "execution_count": null,
   "id": "d7fd594b",
   "metadata": {},
   "outputs": [],
   "source": [
    "#Another Example\n",
    "d = tf.constant([1,2,3.])"
   ]
  },
  {
   "cell_type": "code",
   "execution_count": null,
   "id": "c805e4bb",
   "metadata": {},
   "outputs": [],
   "source": [
    "d"
   ]
  },
  {
   "cell_type": "markdown",
   "id": "c667ddd3",
   "metadata": {},
   "source": [
    "定义矩阵"
   ]
  },
  {
   "cell_type": "code",
   "execution_count": null,
   "id": "0c371cd6",
   "metadata": {},
   "outputs": [],
   "source": [
    "a = tf.constant([[1.1,1.2],[2.1,2.2]])"
   ]
  },
  {
   "cell_type": "code",
   "execution_count": null,
   "id": "bb8fbcc2",
   "metadata": {},
   "outputs": [],
   "source": [
    "a, a.shape"
   ]
  },
  {
   "cell_type": "markdown",
   "id": "f0e1441b",
   "metadata": {},
   "source": [
    "三维张量"
   ]
  },
  {
   "cell_type": "code",
   "execution_count": null,
   "id": "ffe245fe",
   "metadata": {},
   "outputs": [],
   "source": [
    "a = tf.constant([[[1,2],[3,4]],[[5,6],[7,8]]])"
   ]
  },
  {
   "cell_type": "code",
   "execution_count": null,
   "id": "073340cd",
   "metadata": {},
   "outputs": [],
   "source": [
    "a, a.shape"
   ]
  },
  {
   "cell_type": "markdown",
   "id": "3ccf04fc",
   "metadata": {},
   "source": [
    "字符串类型"
   ]
  },
  {
   "cell_type": "code",
   "execution_count": null,
   "id": "487ccf1b",
   "metadata": {},
   "outputs": [],
   "source": [
    "a = tf.constant('Hello, Deep Learning!')"
   ]
  },
  {
   "cell_type": "code",
   "execution_count": null,
   "id": "2e418e7c",
   "metadata": {},
   "outputs": [],
   "source": [
    "a"
   ]
  },
  {
   "cell_type": "markdown",
   "id": "4966c4ee",
   "metadata": {},
   "source": [
    "在tf.strings 模块中，提供了常见的字符串类型的工具函数，如小写化lower()、拼接join()、长度length()、切分split()等。"
   ]
  },
  {
   "cell_type": "code",
   "execution_count": null,
   "id": "e7be82c1",
   "metadata": {},
   "outputs": [],
   "source": [
    "tf.strings.lower(a)"
   ]
  },
  {
   "cell_type": "markdown",
   "id": "1bb9c1c1",
   "metadata": {},
   "source": [
    "布尔类型"
   ]
  },
  {
   "cell_type": "code",
   "execution_count": null,
   "id": "9ab734ec",
   "metadata": {},
   "outputs": [],
   "source": [
    "#布尔类型标量\n",
    "a = tf.constant(True)"
   ]
  },
  {
   "cell_type": "code",
   "execution_count": null,
   "id": "f12992c6",
   "metadata": {},
   "outputs": [],
   "source": [
    "a"
   ]
  },
  {
   "cell_type": "code",
   "execution_count": null,
   "id": "976a4610",
   "metadata": {},
   "outputs": [],
   "source": [
    "#布尔类型向量\n",
    "a = tf.constant([True,False])"
   ]
  },
  {
   "cell_type": "code",
   "execution_count": null,
   "id": "89547c86",
   "metadata": {},
   "outputs": [],
   "source": [
    "a"
   ]
  },
  {
   "cell_type": "markdown",
   "id": "621f3e17",
   "metadata": {},
   "source": [
    "需要注意的是，TensorFlow的布尔类型和Python语言的布尔类型并不等价，不能通用。"
   ]
  },
  {
   "cell_type": "code",
   "execution_count": null,
   "id": "b66298cf",
   "metadata": {},
   "outputs": [],
   "source": [
    "a = tf.constant(True)\n",
    "a is True #TF布尔类型张量与Python布尔类型比较"
   ]
  },
  {
   "cell_type": "code",
   "execution_count": null,
   "id": "dfc8bba4",
   "metadata": {},
   "outputs": [],
   "source": [
    "a == True"
   ]
  },
  {
   "cell_type": "markdown",
   "id": "230fd0ff",
   "metadata": {},
   "source": [
    "布尔张量（Boolean tensors）可以进行数值比较。"
   ]
  },
  {
   "cell_type": "markdown",
   "id": "2158970e",
   "metadata": {},
   "source": [
    "当使用“==”运算符比较一个布尔张量和一个Python的布尔值（如 True）时，TensorFlow会尝试进行比较，但结果会是一个布尔类型的张量，而不是一个Python布尔对象。"
   ]
  },
  {
   "cell_type": "markdown",
   "id": "f392441a",
   "metadata": {},
   "source": [
    "需要使用.numpy()方法或其他方法将结果转换为Python布尔值才能直接在条件语句中使用。"
   ]
  },
  {
   "cell_type": "code",
   "execution_count": null,
   "id": "f790e224",
   "metadata": {},
   "outputs": [],
   "source": [
    "a = tf.constant(True)\n",
    "comparison = a == True\n",
    "print(comparison)\n",
    "print(comparison.numpy())"
   ]
  },
  {
   "cell_type": "markdown",
   "id": "65e49140",
   "metadata": {},
   "source": [
    "数值精度"
   ]
  },
  {
   "cell_type": "markdown",
   "id": "36266ae3",
   "metadata": {},
   "source": [
    "位越长，精度越高，同时占用的内存空间也就越大。常用的精度类型有tf.int16、tf.int32、tf.int64、tf.float16、tf.float32、tf.float64 等，其中tf.float64 即为tf.double。"
   ]
  },
  {
   "cell_type": "code",
   "execution_count": null,
   "id": "a11d2fb2",
   "metadata": {},
   "outputs": [],
   "source": [
    "#创建指定精度的张量\n",
    "tf.constant(123456789, dtype=tf.int16)"
   ]
  },
  {
   "cell_type": "markdown",
   "id": "16271a3a",
   "metadata": {},
   "source": [
    "保存精度过低时，数据123456789发生了溢出，得到了错误的结果，一般使用tf.int32、tf.int64 精度。"
   ]
  },
  {
   "cell_type": "code",
   "execution_count": null,
   "id": "68a9d7af",
   "metadata": {},
   "outputs": [],
   "source": [
    "tf.constant(123456789, dtype=tf.int32)"
   ]
  },
  {
   "cell_type": "code",
   "execution_count": null,
   "id": "90c2d172",
   "metadata": {},
   "outputs": [],
   "source": [
    "#Another Example\n",
    "import numpy as np\n",
    "\n",
    "np.pi #从numpy导入pi常量\n",
    "tf.constant(np.pi, dtype=tf.float32)"
   ]
  },
  {
   "cell_type": "code",
   "execution_count": null,
   "id": "93e2c26c",
   "metadata": {},
   "outputs": [],
   "source": [
    "tf.constant(np.pi, dtype=tf.float64)"
   ]
  },
  {
   "cell_type": "markdown",
   "id": "101cad1a",
   "metadata": {},
   "source": [
    "对于大部分深度学习算法，一般使用tf.int32和tf.float32可满足大部分场合的运算精度要求，部分对精度要求较高的算法，如强化学习某些算法，可以选择使用tf.int64和tf.float64 精度保存张量。"
   ]
  },
  {
   "cell_type": "markdown",
   "id": "a1f8e35e",
   "metadata": {},
   "source": [
    "读取精度"
   ]
  },
  {
   "cell_type": "markdown",
   "id": "43e3fb7a",
   "metadata": {},
   "source": [
    "对于某些只能处理指定精度类型的运算操作，需要提前检验输入张量的精度类型，并将不符合要求的张量进行类型转换。"
   ]
  },
  {
   "cell_type": "code",
   "execution_count": null,
   "id": "0cc88dfe",
   "metadata": {},
   "outputs": [],
   "source": [
    "#精度/类型转换\n",
    "a = tf.constant(1.)\n",
    "print('before:',a.dtype)\n",
    "if a.dtype != tf.float16:\n",
    "    a = tf.cast(a,tf.float16)\n",
    "\n",
    "print('after:',a.dtype)"
   ]
  },
  {
   "cell_type": "markdown",
   "id": "ca5e5ee4",
   "metadata": {},
   "source": [
    "进行类型转换时，需要保证转换操作的合法性，例如将高精度的张量转换为低精度的张量时，可能发生数据溢出隐患。"
   ]
  },
  {
   "cell_type": "code",
   "execution_count": null,
   "id": "6075e713",
   "metadata": {},
   "outputs": [],
   "source": [
    "a = tf.constant(123456789, dtype=tf.int32)\n",
    "tf.cast(a,tf.int16)"
   ]
  },
  {
   "cell_type": "code",
   "execution_count": null,
   "id": "0a54d792",
   "metadata": {},
   "outputs": [],
   "source": [
    "#Another Example\n",
    "a = tf.constant([True,False])\n",
    "tf.cast(a, tf.int32)"
   ]
  },
  {
   "cell_type": "code",
   "execution_count": null,
   "id": "aea69117",
   "metadata": {},
   "outputs": [],
   "source": [
    "#非0数字都视为True\n",
    "a = tf.constant([-1,0,1,2])\n",
    "tf.cast(a, tf.bool)"
   ]
  },
  {
   "cell_type": "markdown",
   "id": "ea776f07",
   "metadata": {},
   "source": [
    "待优化张量"
   ]
  },
  {
   "cell_type": "markdown",
   "id": "17c6780d",
   "metadata": {},
   "source": [
    "为了区分需要计算梯度信息的张量与不需要计算梯度信息的张量，TensorFlow增加了一种专门的数据类型来支持梯度信息的记录：tf.Variable。"
   ]
  },
  {
   "cell_type": "markdown",
   "id": "15cf8fbc",
   "metadata": {},
   "source": [
    "tf.Variable类型在普通的张量类型基础上添加了name，trainable等属性来支持计算图的构建。由于梯度运算会消耗大量的计算资源，而且会自动更新相关参数，对于不需要的优化的张量，如神经网络的输入𝑿，不需要通过tf.Variable封装；相反，对于需要计算梯度并优化的张量，如神经网络层的𝑾和𝒃，需要通过tf.Variable包裹以便TensorFlow跟踪相关梯度信息。"
   ]
  },
  {
   "cell_type": "code",
   "execution_count": null,
   "id": "4b26a206",
   "metadata": {},
   "outputs": [],
   "source": [
    "a = tf.constant([-1,0,1,2])\n",
    "b = tf.Variable(a)\n",
    "b.name, b.trainable"
   ]
  },
  {
   "cell_type": "code",
   "execution_count": null,
   "id": "587f6f0d",
   "metadata": {},
   "outputs": [],
   "source": [
    "a = tf.Variable([[1,2],[3,4]])\n",
    "a"
   ]
  },
  {
   "cell_type": "markdown",
   "id": "3fa45eed",
   "metadata": {},
   "source": [
    "待优化张量可视为普通张量的特殊类型，普通张量其实也可以通过GradientTape.watch()方法临时加入跟踪梯度信息的列表，从而支持自动求导功能。"
   ]
  },
  {
   "cell_type": "markdown",
   "id": "81b2eec1",
   "metadata": {},
   "source": [
    "# 创建张量"
   ]
  },
  {
   "cell_type": "code",
   "execution_count": null,
   "id": "1dc85d39",
   "metadata": {},
   "outputs": [],
   "source": [
    "tf.convert_to_tensor([1,2.]) #从列表创建张量"
   ]
  },
  {
   "cell_type": "code",
   "execution_count": null,
   "id": "8ca2cc79",
   "metadata": {},
   "outputs": [],
   "source": [
    "tf.convert_to_tensor(np.array([[1,2.],[3,4]])) #从数组创建张量"
   ]
  },
  {
   "cell_type": "markdown",
   "id": "152cf349",
   "metadata": {},
   "source": [
    "Numpy 浮点数数组默认使用64位精度保存数据，转换到Tensor类型时精度为tf.float64，可以在需要的时候将其转换为tf.float32类型。"
   ]
  },
  {
   "cell_type": "markdown",
   "id": "d5b932c6",
   "metadata": {},
   "source": [
    "tf.constant()和tf.convert_to_tensor()都能够自动的把Numpy数组或者Python列表数据类型转化为Tensor类型。"
   ]
  },
  {
   "cell_type": "code",
   "execution_count": null,
   "id": "cb76c2f8",
   "metadata": {},
   "outputs": [],
   "source": [
    "tf.zeros([]), tf.ones([]) #创建全0或全1的张量（标量）"
   ]
  },
  {
   "cell_type": "code",
   "execution_count": null,
   "id": "2978c8b7",
   "metadata": {},
   "outputs": [],
   "source": [
    "tf.zeros([1]), tf.ones([1]) #创建全0或全1的张量（向量）"
   ]
  },
  {
   "cell_type": "code",
   "execution_count": null,
   "id": "f48fded5",
   "metadata": {},
   "outputs": [],
   "source": [
    "tf.zeros([2,2]), tf.ones([2,2]) #创建全0或全1的张量（矩阵）"
   ]
  },
  {
   "cell_type": "markdown",
   "id": "cf94cfbe",
   "metadata": {},
   "source": [
    "创建与张量𝑨形状一样的全0张量。"
   ]
  },
  {
   "cell_type": "code",
   "execution_count": null,
   "id": "663f8ebb",
   "metadata": {},
   "outputs": [],
   "source": [
    "a = tf.ones([3,2])\n",
    "b = tf.zeros_like(a)\n",
    "b"
   ]
  },
  {
   "cell_type": "markdown",
   "id": "b90fe92a",
   "metadata": {},
   "source": [
    "tf.*_like是一系列的便捷函数，可以通过tf.zeros(a.shape)等方式实现。"
   ]
  },
  {
   "cell_type": "code",
   "execution_count": null,
   "id": "8b979974",
   "metadata": {},
   "outputs": [],
   "source": [
    "tf.fill([], -1) #创建-1的标量"
   ]
  },
  {
   "cell_type": "code",
   "execution_count": null,
   "id": "a6b7737d",
   "metadata": {},
   "outputs": [],
   "source": [
    "tf.fill([1], -1) #创建-1的向量"
   ]
  },
  {
   "cell_type": "code",
   "execution_count": null,
   "id": "f43c6970",
   "metadata": {},
   "outputs": [],
   "source": [
    "tf.fill([2,2], -1) #创建-1的矩阵"
   ]
  },
  {
   "cell_type": "code",
   "execution_count": null,
   "id": "9b7d50b7",
   "metadata": {},
   "outputs": [],
   "source": [
    "tf.random.normal([2,2]) #创建服从标准正态分布的张量"
   ]
  },
  {
   "cell_type": "markdown",
   "id": "83b0feb2",
   "metadata": {},
   "source": [
    "通过 tf.random.normal(shape, mean=0.0, stddev=1.0)可以创建形状为shape均值为mean，标准差为stddev 的正态分布𝒩(mean, stddev^2)。"
   ]
  },
  {
   "cell_type": "code",
   "execution_count": null,
   "id": "09110c52",
   "metadata": {},
   "outputs": [],
   "source": [
    "tf.random.normal([2,2], mean=1, stddev=2) #创建服从正态分布的张量"
   ]
  },
  {
   "cell_type": "markdown",
   "id": "d1060145",
   "metadata": {},
   "source": [
    "通过tf.random.uniform(shape, minval=0, maxval=None, dtype=tf.float32)可以创建采样自[minval, maxval)区间的均匀分布的张量。"
   ]
  },
  {
   "cell_type": "code",
   "execution_count": null,
   "id": "7487c9dd",
   "metadata": {},
   "outputs": [],
   "source": [
    "tf.random.uniform([2,2]) #创建采样自[0,1)均匀分布的矩阵"
   ]
  },
  {
   "cell_type": "code",
   "execution_count": null,
   "id": "41b9d6ab",
   "metadata": {},
   "outputs": [],
   "source": [
    "tf.random.uniform([2,2], maxval=10) #创建采样自[0,10)均匀分布的矩阵"
   ]
  },
  {
   "cell_type": "markdown",
   "id": "7270aef1",
   "metadata": {},
   "source": [
    "如果需要均匀采样整形类型的数据，必须指定采样区间的最大值maxval参数，同时指定数据类型为tf.int*型。"
   ]
  },
  {
   "cell_type": "code",
   "execution_count": null,
   "id": "790e3e2f",
   "metadata": {},
   "outputs": [],
   "source": [
    "tf.random.uniform([2,2], maxval=100, dtype=tf.int32) #创建采样自[0,100)均匀分布的整数矩阵"
   ]
  },
  {
   "cell_type": "markdown",
   "id": "d90a106c",
   "metadata": {},
   "source": [
    "创建序列"
   ]
  },
  {
   "cell_type": "markdown",
   "id": "b72baea3",
   "metadata": {},
   "source": [
    "tf.range(limit, delta=1)可以创建[0, limit)之间，步长为delta的整型序列，不包含limit本身。"
   ]
  },
  {
   "cell_type": "code",
   "execution_count": null,
   "id": "cbe0ce7b",
   "metadata": {},
   "outputs": [],
   "source": [
    "tf.range(10, delta=2)"
   ]
  },
  {
   "cell_type": "markdown",
   "id": "099a262f",
   "metadata": {},
   "source": [
    "通过tf.range(start, limit, delta=1)可以创建[start, limit)，步长为delta的序列，不包含limit本身。"
   ]
  },
  {
   "cell_type": "code",
   "execution_count": null,
   "id": "771be13e",
   "metadata": {},
   "outputs": [],
   "source": [
    "tf.range(1, 10, delta=2)"
   ]
  },
  {
   "cell_type": "markdown",
   "id": "1665d3d4",
   "metadata": {},
   "source": [
    "# 索引与切片"
   ]
  },
  {
   "cell_type": "markdown",
   "id": "fed35a67",
   "metadata": {},
   "source": [
    "在 TensorFlow中，支持基本的[𝑖][𝑗] ⋯标准索引方式，也支持通过逗号分隔索引号的索引方式。"
   ]
  },
  {
   "cell_type": "code",
   "execution_count": null,
   "id": "f85ccbc5",
   "metadata": {},
   "outputs": [],
   "source": [
    "#假设𝑿为4张32×32大小的彩色图片，shape为[4,32,32,3]。\n",
    "x = tf.random.normal([4,32,32,3])"
   ]
  },
  {
   "cell_type": "code",
   "execution_count": null,
   "id": "038925da",
   "metadata": {},
   "outputs": [],
   "source": [
    "x[0] #取第一张图片"
   ]
  },
  {
   "cell_type": "code",
   "execution_count": null,
   "id": "4ee15cd5",
   "metadata": {},
   "outputs": [],
   "source": [
    "x[0][1] #取第一张图片的第二行"
   ]
  },
  {
   "cell_type": "code",
   "execution_count": null,
   "id": "76e1326f",
   "metadata": {},
   "outputs": [],
   "source": [
    "x[0][1][2] #第一张图片第二行第三列的数据"
   ]
  },
  {
   "cell_type": "code",
   "execution_count": null,
   "id": "e0c7af89",
   "metadata": {},
   "outputs": [],
   "source": [
    "x[0][1][2][1] #第一张图第二行第三列像素的G通道（RGB）"
   ]
  },
  {
   "cell_type": "code",
   "execution_count": null,
   "id": "28c63247",
   "metadata": {},
   "outputs": [],
   "source": [
    "x[0,1,2,1] #另一种索引形式"
   ]
  },
  {
   "cell_type": "markdown",
   "id": "29bc9068",
   "metadata": {},
   "source": [
    "通过start:end:step切片方式可以方便地提取一段数据，其中start为开始读取位置的索引，end为结束读取位置的索引(不包含end位)，step为采样步长。"
   ]
  },
  {
   "cell_type": "code",
   "execution_count": null,
   "id": "0fdf56cc",
   "metadata": {},
   "outputs": [],
   "source": [
    "x[1:3] #读取第二、第三张图片"
   ]
  },
  {
   "cell_type": "code",
   "execution_count": null,
   "id": "f69eceaf",
   "metadata": {},
   "outputs": [],
   "source": [
    "x[0,::] #提取第一张图片的所有行，等价于x[0]"
   ]
  },
  {
   "cell_type": "markdown",
   "id": "5e9b4fba",
   "metadata": {},
   "source": [
    "为了更加简洁，::可以简写为单个冒号。"
   ]
  },
  {
   "cell_type": "code",
   "execution_count": null,
   "id": "b0848a69",
   "metadata": {},
   "outputs": [],
   "source": [
    "x[:, 0:28:2, 0:28:2, :] #每张图片，隔行采样，隔列采样，所有通道。\n",
    "\n",
    "#相当于在图片的高宽上各缩放至原来的50%。"
   ]
  },
  {
   "cell_type": "markdown",
   "id": "ca664ceb",
   "metadata": {},
   "source": [
    "step 可以为负数，考虑最特殊的一种例子，当step = −1时，start:end:−1表示从start开始，逆序读取至end 结束(不包含end)，索引号𝑒𝑛𝑑 ≤ 𝑠𝑡𝑎𝑟𝑡。"
   ]
  },
  {
   "cell_type": "code",
   "execution_count": null,
   "id": "a4109e17",
   "metadata": {},
   "outputs": [],
   "source": [
    "x = tf.range(9) #创建0~9向量\n",
    "x"
   ]
  },
  {
   "cell_type": "code",
   "execution_count": null,
   "id": "30ec50da",
   "metadata": {},
   "outputs": [],
   "source": [
    "x[8:0:-1] #从8取到0，逆序，不包含0"
   ]
  },
  {
   "cell_type": "code",
   "execution_count": null,
   "id": "0ecb236c",
   "metadata": {},
   "outputs": [],
   "source": [
    "x[::-1] #逆序全部元素"
   ]
  },
  {
   "cell_type": "code",
   "execution_count": null,
   "id": "ae3b6582",
   "metadata": {},
   "outputs": [],
   "source": [
    "x[::-2] #逆序间隔采样"
   ]
  },
  {
   "cell_type": "markdown",
   "id": "4506239b",
   "metadata": {},
   "source": [
    "为了避免出现像 [: , : , : ,1]这样过多冒号的情况，可以使用⋯符号表示取多个维度上所有的数据，其中维度的数量需根据规则自动推断：当切片方式出现⋯符号时，⋯符号左边的维度将自动对齐到最左边，⋯符号右边的维度将自动对齐到最右边，此时系统再自动推断⋯符号代表的维度数。"
   ]
  },
  {
   "cell_type": "code",
   "execution_count": null,
   "id": "f130ccdd",
   "metadata": {},
   "outputs": [],
   "source": [
    "x = tf.random.normal([4,32,32,3])\n",
    "x[0:2,...,1:] #读取前两张图片的G/B通道数据"
   ]
  },
  {
   "cell_type": "markdown",
   "id": "87839fa1",
   "metadata": {},
   "source": [
    "# 维度变换"
   ]
  },
  {
   "cell_type": "markdown",
   "id": "402a0d46",
   "metadata": {},
   "source": [
    "基本的维度变换操作函数包含了改变视图reshape、插入新维度expand_dims，删除维度squeeze、交换维度transpose、复制数据tile等函数。"
   ]
  },
  {
   "cell_type": "code",
   "execution_count": null,
   "id": "bd500f80",
   "metadata": {},
   "outputs": [],
   "source": [
    "#Reshape\n",
    "x = tf.range(96)\n",
    "x = tf.reshape(x, [2,4,4,3])\n",
    "x"
   ]
  },
  {
   "cell_type": "markdown",
   "id": "2b235f1a",
   "metadata": {},
   "source": [
    "在存储数据时，内存并不支持这个维度层级概念，只能以平铺方式按序写入内存，因此这种层级关系需要人为管理，也就是说，每个张量的存储顺序需要人为跟踪。"
   ]
  },
  {
   "cell_type": "markdown",
   "id": "e5c836f1",
   "metadata": {},
   "source": [
    "可以通过串联多个reshape操作来实现复杂逻辑，但是在通过reshape改变视图时，必须始终记住张量的存储顺序，新视图的维度顺序不能与存储顺序相悖。"
   ]
  },
  {
   "cell_type": "code",
   "execution_count": null,
   "id": "d811e415",
   "metadata": {},
   "outputs": [],
   "source": [
    "#可以通过张量的ndim和shape成员属性获得张量的维度数和形状\n",
    "x.ndim, x.shape"
   ]
  },
  {
   "cell_type": "code",
   "execution_count": null,
   "id": "3634df69",
   "metadata": {},
   "outputs": [],
   "source": [
    "tf.reshape(x, [2,-1]) #−1表示当前轴上长度需要根据张量总元素不变的法则自动推导"
   ]
  },
  {
   "cell_type": "markdown",
   "id": "3ee025c2",
   "metadata": {},
   "source": [
    "增删维度"
   ]
  },
  {
   "cell_type": "code",
   "execution_count": null,
   "id": "e9f63172",
   "metadata": {},
   "outputs": [],
   "source": [
    "x = tf.random.uniform([28,28], maxval=10, dtype=tf.int32)\n",
    "x"
   ]
  },
  {
   "cell_type": "code",
   "execution_count": null,
   "id": "f1c2b470",
   "metadata": {},
   "outputs": [],
   "source": [
    "x = tf.expand_dims(x, axis=2)\n",
    "x"
   ]
  },
  {
   "cell_type": "code",
   "execution_count": null,
   "id": "900b103d",
   "metadata": {},
   "outputs": [],
   "source": [
    "x = tf.expand_dims(x, axis=0)\n",
    "x"
   ]
  },
  {
   "cell_type": "markdown",
   "id": "837940a0",
   "metadata": {},
   "source": [
    "tf.expand_dims的axis为正时，表示在当前维度之前插入一个新维度；为负时，表示当前维度之后插入一个新的维度。"
   ]
  },
  {
   "attachments": {
    "image.png": {
     "image/png": "[encoded data removed]"
    }
   },
   "cell_type": "markdown",
   "id": "a6629100",
   "metadata": {},
   "source": [
    "以[𝑏, ℎ, , 𝑐]张量为例，不同axis 参数的实际插入位置如图所示:\n",
    "![image.png](attachment:image.png)\n"
   ]
  },
  {
   "cell_type": "markdown",
   "id": "e6a8cb35",
   "metadata": {},
   "source": [
    "删除维度"
   ]
  },
  {
   "cell_type": "code",
   "execution_count": null,
   "id": "fbefde42",
   "metadata": {},
   "outputs": [],
   "source": [
    "x.shape"
   ]
  },
  {
   "cell_type": "code",
   "execution_count": null,
   "id": "0fb7cabb",
   "metadata": {},
   "outputs": [],
   "source": [
    "x = tf.squeeze(x, axis=0)\n",
    "x.shape"
   ]
  },
  {
   "cell_type": "code",
   "execution_count": null,
   "id": "78a71d52",
   "metadata": {},
   "outputs": [],
   "source": [
    "x = tf.squeeze(x, axis=2)\n",
    "x.shape"
   ]
  },
  {
   "cell_type": "code",
   "execution_count": null,
   "id": "fee0cae1",
   "metadata": {},
   "outputs": [],
   "source": [
    "#如果不指定维度参数axis，即tf.squeeze(x)，那么它会默认删除所有长度为1的维度\n",
    "x = tf.random.uniform([1,28,28,1], maxval=10, dtype=tf.int32) \n",
    "tf.squeeze(x)\n",
    "\n",
    "#建议使用tf.squeeze()时逐一指定需要删除的维度参数，防止TensorFlow意外删除某些长度为1的维度"
   ]
  },
  {
   "cell_type": "markdown",
   "id": "67f38dd5",
   "metadata": {},
   "source": [
    "交换维度"
   ]
  },
  {
   "cell_type": "markdown",
   "id": "2baa1e2f",
   "metadata": {},
   "source": [
    "交换维度操作，改变了张量的存储顺序，同时也改变了张量的视图。"
   ]
  },
  {
   "cell_type": "code",
   "execution_count": null,
   "id": "857763de",
   "metadata": {},
   "outputs": [],
   "source": [
    "x = tf.random.normal([2,32,32,3])\n",
    "x = tf.transpose(x, perm=[0,3,1,2])\n",
    "x.shape"
   ]
  },
  {
   "cell_type": "markdown",
   "id": "8aea25f6",
   "metadata": {},
   "source": [
    "复制数据"
   ]
  },
  {
   "cell_type": "markdown",
   "id": "5cdd6153",
   "metadata": {},
   "source": [
    "可以通过tf.tile(x, multiples)函数完成数据在指定维度上的复制操作，multiples 分别指定了每个维度上面的复制倍数，对应位置为1 表明不复制，为2 表明新长度为原来长度的2 倍，即数据复制一份，以此类推。"
   ]
  },
  {
   "cell_type": "code",
   "execution_count": null,
   "id": "aac1e5f8",
   "metadata": {},
   "outputs": [],
   "source": [
    "b = tf.constant([1,2]) #向量b\n",
    "b = tf.expand_dims(b, axis=0) #插入新维度，变成矩阵\n",
    "b"
   ]
  },
  {
   "cell_type": "code",
   "execution_count": null,
   "id": "1be6c337",
   "metadata": {},
   "outputs": [],
   "source": [
    "b = tf.tile(b, multiples=[2,1]) #multiples是一个列表或元组，表示每个维度要重复的次数\n",
    "b"
   ]
  },
  {
   "cell_type": "markdown",
   "id": "b6e11e47",
   "metadata": {},
   "source": [
    "上述插入维度和复制数据的步骤并不需要我们手动执行，TensorFlow 会自动完成，这就是自动扩展功能（boradcasting）。"
   ]
  },
  {
   "cell_type": "markdown",
   "id": "9c5278e5",
   "metadata": {},
   "source": [
    "tf.tile会创建一个新的张量来保存复制后的张量，由于复制操作涉及大\n",
    "量数据的读写IO运算，计算代价相对较高。"
   ]
  },
  {
   "cell_type": "markdown",
   "id": "69cf188e",
   "metadata": {},
   "source": [
    "Broadcasting"
   ]
  },
  {
   "cell_type": "markdown",
   "id": "ffc1b1e3",
   "metadata": {},
   "source": [
    "Broadcasting是一种轻量级的复制操作。在逻辑上扩展张量数据的形状，但是只会在需要时才会执行实际存储复制操作。对于大部分场景，Broadcasting机制都能通过优化手段避免实际复制数据而完成逻辑运算，从而相对于tf.tile 函数，减少了大量计算代价。"
   ]
  },
  {
   "cell_type": "code",
   "execution_count": null,
   "id": "868ee4c4",
   "metadata": {},
   "outputs": [],
   "source": [
    "x = tf.random.normal([2,4])\n",
    "w = tf.random.normal([4,3])\n",
    "b = tf.random.normal([3])\n",
    "\n",
    "y = x@w + b #不同shape的张量直接相加，会自动扩展shape\n",
    "\n",
    "#“@”，矩阵乘法运算符，等同于tf.matmul在TensorFlow中的用法。\n",
    "\n",
    "#上面等效于：y = x@w + tf.broadcast_to(b, [2,3])"
   ]
  },
  {
   "attachments": {},
   "cell_type": "markdown",
   "id": "46f7227c",
   "metadata": {},
   "source": [
    "自动扩展示意图："
   ]
  },
  {
   "attachments": {
    "image.png": {
     "image/png": "[encoded data removed]"
    }
   },
   "cell_type": "markdown",
   "id": "1f5a4507",
   "metadata": {},
   "source": [
    "![image.png](attachment:image.png)"
   ]
  },
  {
   "cell_type": "markdown",
   "id": "b3ad6fb3",
   "metadata": {},
   "source": [
    "对于长度为1的维度，默认这个数据普遍适合于当前维度的其他位置；对于不存在的维度，则在增加新维度后默认当前数据也是普适于新维度的."
   ]
  },
  {
   "cell_type": "code",
   "execution_count": null,
   "id": "e605e6a9",
   "metadata": {},
   "outputs": [],
   "source": [
    "A= tf.random.normal([32,1])\n",
    "tf.broadcast_to(A, [2,32,32,3])"
   ]
  },
  {
   "cell_type": "markdown",
   "id": "085b83c5",
   "metadata": {},
   "source": [
    "在某个靠右的低维度上，张量已经有2个特征数据，新shape 对应维度的长度为3，那么当前维度上的这2个特征无法普适到其它位置，故不满足普适性原则，无法应用Broadcasting 机制，将会触发错误。"
   ]
  },
  {
   "cell_type": "code",
   "execution_count": null,
   "id": "9fce2652",
   "metadata": {},
   "outputs": [],
   "source": [
    "A= tf.random.normal([32,2])\n",
    "tf.broadcast_to(A, [2,32,32,3])\n",
    "\n",
    "#Incompatible shapes: [32,2] vs. [2,32,32,3] [Op:BroadcastTo]"
   ]
  },
  {
   "cell_type": "code",
   "execution_count": null,
   "id": "44071b83",
   "metadata": {},
   "outputs": [],
   "source": [
    "#Another Example\n",
    "a = tf.random.normal([2,32,32,1])\n",
    "b = tf.random.normal([32,32])\n",
    "\n",
    "a+b, a-b, a*b, a/b #这些都支持自动扩展为公共的shape，即[2,32,32,32]"
   ]
  },
  {
   "cell_type": "markdown",
   "id": "38b4469b",
   "metadata": {},
   "source": [
    "# 数学运算"
   ]
  },
  {
   "cell_type": "markdown",
   "id": "80880057",
   "metadata": {},
   "source": [
    "加、减、乘、除，分别通过tf.add, tf.subtract, tf.multiply, tf.divide函数实现，TensorFlow 已经重载了+、− 、∗ 、/运算符，可以直接使用。"
   ]
  },
  {
   "cell_type": "markdown",
   "id": "77f396dc",
   "metadata": {},
   "source": [
    "整除和余除也是常见的运算之一，分别通过//和%运算符实现。"
   ]
  },
  {
   "cell_type": "code",
   "execution_count": null,
   "id": "b72faebd",
   "metadata": {},
   "outputs": [],
   "source": [
    "a = tf.range(5)\n",
    "b = tf.constant(2)\n",
    "a, b, a // b, a % b #整除与余除"
   ]
  },
  {
   "cell_type": "markdown",
   "id": "79c89540",
   "metadata": {},
   "source": [
    "乘方运算"
   ]
  },
  {
   "cell_type": "code",
   "execution_count": null,
   "id": "b6d8676c",
   "metadata": {},
   "outputs": [],
   "source": [
    "x = tf.range(4)\n",
    "x, tf.pow(x, 3), x ** 3"
   ]
  },
  {
   "cell_type": "markdown",
   "id": "00e69285",
   "metadata": {},
   "source": [
    "根号运算"
   ]
  },
  {
   "cell_type": "code",
   "execution_count": null,
   "id": "17d55ddc",
   "metadata": {},
   "outputs": [],
   "source": [
    "x = tf.constant([1.,4.,9.])\n",
    "x ** (0.5), tf.pow(x, 0.5)"
   ]
  },
  {
   "cell_type": "markdown",
   "id": "cb2d7183",
   "metadata": {},
   "source": [
    "平方和平方根运算，可以使用tf.square(x)和tf.sqrt(x)实现。"
   ]
  },
  {
   "cell_type": "code",
   "execution_count": null,
   "id": "108f0777",
   "metadata": {},
   "outputs": [],
   "source": [
    "x = tf.range(5)\n",
    "y = tf.cast(x, dtype=tf.float32)\n",
    "x, x.dtype, y, y.dtype, tf.square(y), tf.sqrt(y)"
   ]
  },
  {
   "cell_type": "markdown",
   "id": "0fe4c035",
   "metadata": {},
   "source": [
    "指数和对数运算"
   ]
  },
  {
   "cell_type": "code",
   "execution_count": null,
   "id": "621823e0",
   "metadata": {},
   "outputs": [],
   "source": [
    "x = tf.constant([1.,2.,3.])\n",
    "2 ** x, tf.pow(2, x)"
   ]
  },
  {
   "cell_type": "code",
   "execution_count": null,
   "id": "0a92b899",
   "metadata": {},
   "outputs": [],
   "source": [
    "#自然指数e^𝑥，可以通过tf.exp(x)实现\n",
    "tf.exp(1.)"
   ]
  },
  {
   "cell_type": "markdown",
   "id": "e2aa7551",
   "metadata": {},
   "source": [
    "在TensorFlow中，自然对数ln(x)可以通过tf.math.log(x)实现，计算其他底数的对数，可以借助换底公式。"
   ]
  },
  {
   "cell_type": "code",
   "execution_count": null,
   "id": "a404d664",
   "metadata": {},
   "outputs": [],
   "source": [
    "x = tf.exp(3.)\n",
    "tf.math.log(x)"
   ]
  },
  {
   "cell_type": "code",
   "execution_count": null,
   "id": "ca6fed3c",
   "metadata": {},
   "outputs": [],
   "source": [
    "x = tf.constant([1.,2.])\n",
    "x = 10 ** x\n",
    "tf.math.log(x)/tf.math.log(10.) #换底公式"
   ]
  },
  {
   "cell_type": "markdown",
   "id": "446cd984",
   "metadata": {},
   "source": [
    "矩阵相乘"
   ]
  },
  {
   "cell_type": "markdown",
   "id": "f5733b35",
   "metadata": {},
   "source": [
    "TensorFlow中的矩阵相乘通过@运算符或tf.matmul(a, b)函数实现，并可以使用批量方式，也就是张量𝑨和𝑩的维度数可以大于2。当张量𝑨和𝑩维度数大于2时，TensorFlow会选择𝑨和𝑩的最后两个维度进行矩阵相乘，前面所有的维度都视作Batch 维度。"
   ]
  },
  {
   "cell_type": "code",
   "execution_count": null,
   "id": "a7579d4f",
   "metadata": {},
   "outputs": [],
   "source": [
    "a = tf.random.normal([4,3,28,32])\n",
    "b = tf.random.normal([4,3,32,2])\n",
    "(a @ b).shape"
   ]
  },
  {
   "cell_type": "code",
   "execution_count": null,
   "id": "b995f0f3",
   "metadata": {},
   "outputs": [],
   "source": [
    "a = tf.random.normal([4,28,32])\n",
    "b = tf.random.normal([32,16])\n",
    "tf.matmul(a, b).shape\n",
    "\n",
    "#矩阵相乘支持Broadcasting"
   ]
  },
  {
   "cell_type": "markdown",
   "id": "ed54c99d",
   "metadata": {},
   "source": [
    "# 前向传播实战"
   ]
  },
  {
   "cell_type": "markdown",
   "id": "ec76c866",
   "metadata": {},
   "source": [
    "out = 𝑅𝑒𝐿𝑈 {𝑅𝑒𝐿𝑈 {𝑅𝑒𝐿𝑈 [𝑿 @ 𝑾1 + 𝒃1] @ 𝑾2 + 𝒃2} @ 𝑾3 + 𝒃3 }"
   ]
  },
  {
   "cell_type": "markdown",
   "id": "38468a24",
   "metadata": {},
   "source": [
    "在这个案例中，采用以上的三层神经网络实现MNIST手写数字图片集的分类与识别。\n",
    "输入节点为784（28 * 28），通过三层神经网络产生10个节点的输出（对应10个类别），比如，第一层输出节点256，第二层输出节点128，第三层输出节点10。"
   ]
  },
  {
   "cell_type": "markdown",
   "id": "fbc7deb8",
   "metadata": {},
   "source": [
    "创建每层的参数张量"
   ]
  },
  {
   "cell_type": "code",
   "execution_count": null,
   "id": "49c661cd",
   "metadata": {},
   "outputs": [],
   "source": [
    "#每层的张量都需要被优化，故使用Variable类型，并使用截断的正太分布初始化权值张量\n",
    "w1 = tf.Variable(tf.random.truncated_normal([784,256], stddev=0.1))\n",
    "b1 = tf.Variable(tf.zeros([256]))\n",
    "\n",
    "w2 = tf.Variable(tf.random.truncated_normal([256,128], stddev=0.1))\n",
    "b2 = tf.Variable(tf.zeros([128]))\n",
    "\n",
    "w3 = tf.Variable(tf.random.truncated_normal([128,10], stddev=0.1))\n",
    "b3 = tf.Variable(tf.zeros([10]))\n",
    "\n",
    "#通常一开始将偏置设为0，因为在训练开始时我们不希望偏置影响太多\n"
   ]
  },
  {
   "cell_type": "markdown",
   "id": "48759ea0",
   "metadata": {},
   "source": [
    "tf.random.truncated_normal函数用于从截断的正态分布中抽取值。这意味着如果一个随机数落在分布的两个标准差之外，它将被重新抽取，从而避免极端值。\n",
    "stddev=0.1指定了这个正态分布的标准差，控制权重初始化的范围。较小的标准差有助于防止梯度消失或爆炸，特别是在深层网络中。"
   ]
  },
  {
   "cell_type": "markdown",
   "id": "abfc9a64",
   "metadata": {},
   "source": [
    "前向计算"
   ]
  },
  {
   "cell_type": "markdown",
   "id": "eebbd542",
   "metadata": {},
   "source": [
    "首先将shape为[𝑏, 28,28]的输入张量的视图调整为[𝑏, 784]，即将每个图片的矩阵数据调整为向量特征，这样才适合于网络的输入格式。"
   ]
  },
  {
   "cell_type": "code",
   "execution_count": null,
   "id": "5b7f17a8",
   "metadata": {},
   "outputs": [],
   "source": [
    "x = tf.reshape(x, [-1, 28*28])"
   ]
  },
  {
   "cell_type": "code",
   "execution_count": null,
   "id": "15e05df4",
   "metadata": {},
   "outputs": [],
   "source": [
    "#h1 = x @ w1 + b1，这里进行显式地自动扩展\n",
    "h1 = x @ w1 + tf.broadcast_to(b1, [x.shape[0], 256])\n",
    "#激活函数\n",
    "h1 = tf.nn.relu(h1)\n",
    "\n",
    "h2 = h1 @ w2 + tf.broadcast_to(b2, [h2.shape[0], 128])\n",
    "h2 = tf.nn.relu(h2)\n",
    "\n",
    "#输出层就不需要激活函数了\n",
    "out = h2 @ w3 + tf.broadcast_to(b3, [h2.shape[0], 10])\n"
   ]
  },
  {
   "cell_type": "markdown",
   "id": "cad3c96c",
   "metadata": {},
   "source": [
    "将真实的标注张量𝒚转变为One-Hot编码，并计算与out的均方差。"
   ]
  },
  {
   "cell_type": "code",
   "execution_count": null,
   "id": "538b47f7",
   "metadata": {},
   "outputs": [],
   "source": [
    "#计算网络输出与标签之间的均方差，mse = mean(sum(y-out)^2)\n",
    "loss = tf.square(y_onehot - out)\n",
    "loss = tf.reduce_mean(loss)"
   ]
  },
  {
   "cell_type": "markdown",
   "id": "f17e306a",
   "metadata": {},
   "source": [
    "独热编码（one-hot encoding）形式，比如在多类别分类任务中，如果有10个类别，标签会是一个形状为 [batch_size, 10] 的张量，其中每个样本的正确类别位置为1，其它位置为0。\n",
    "\n",
    "out: 这是模型的输出，通常是神经网络最后一层的激活值，比如使用softmax激活后得到的概率分布，也是一个形状为 [batch_size, 10] 的张量。\n",
    "\n",
    "y_onehot - out得到两个张量之间的差值，然后使用tf.square对这些差值进行平方操作。这是因为在MSE中，我们希望惩罚大的错误更重，故使用平方。\n",
    "\n",
    "tf.reduce_mean(loss): 这行代码计算所有样本的损失的平均值。reduce_mean 函数会将一个张量的所有元素相加，然后除以元素的数量，从而得到平均值。这里，它将所有样本的平方误差平均起来，得到一个单一的损失值（标量）。"
   ]
  },
  {
   "cell_type": "markdown",
   "id": "ab661dc5",
   "metadata": {},
   "source": [
    "上述的前向计算过程都需要包裹在with tf.GradientTape() as tape上下文中，使得前向计算时能够保存计算图信息，方便自动求导操作。"
   ]
  },
  {
   "cell_type": "code",
   "execution_count": null,
   "id": "aa6855f9",
   "metadata": {},
   "outputs": [],
   "source": [
    "#自动梯度，需要求梯度的张量有[w1, b1, w2, b2, w3, b3]\n",
    "grads = tape.gradient(loss, [w1, b1, w2, b2, w3, b3])"
   ]
  },
  {
   "attachments": {
    "image.png": {
     "image/png": "[encoded data removed]"
    }
   },
   "cell_type": "markdown",
   "id": "f8f4a04d",
   "metadata": {},
   "source": [
    "按照下面的公式更新梯度：\n",
    "![image.png](attachment:image.png)"
   ]
  },
  {
   "cell_type": "code",
   "execution_count": null,
   "id": "e11c05c2",
   "metadata": {},
   "outputs": [],
   "source": [
    "#assign_sub将当前值减去参数值，原地(in-place)更新\n",
    "w1.assign_sub(lr * grads[0])\n",
    "b1.assign_sub(lr * grads[1])\n",
    "w2.assign_sub(lr * grads[2])\n",
    "b2.assign_sub(lr * grads[3])\n",
    "w3.assign_sub(lr * grads[4])\n",
    "b3.assign_sub(lr * grads[5])\n"
   ]
  },
  {
   "cell_type": "code",
   "execution_count": null,
   "id": "365a027b",
   "metadata": {},
   "outputs": [],
   "source": []
  },
  {
   "cell_type": "code",
   "execution_count": null,
   "id": "6008f068",
   "metadata": {},
   "outputs": [],
   "source": []
  }
 ],
 "metadata": {
  "kernelspec": {
   "display_name": "Python 3 (ipykernel)",
   "language": "python",
   "name": "python3"
  },
  "language_info": {
   "codemirror_mode": {
    "name": "ipython",
    "version": 3
   },
   "file_extension": ".py",
   "mimetype": "text/x-python",
   "name": "python",
   "nbconvert_exporter": "python",
   "pygments_lexer": "ipython3",
   "version": "3.7.1"
  }
 },
 "nbformat": 4,
 "nbformat_minor": 5
}
